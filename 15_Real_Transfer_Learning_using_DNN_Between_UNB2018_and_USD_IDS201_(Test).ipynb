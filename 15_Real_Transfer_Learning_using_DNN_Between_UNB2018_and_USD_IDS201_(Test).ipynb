{
  "cells": [
    {
      "cell_type": "markdown",
      "metadata": {
        "id": "view-in-github",
        "colab_type": "text"
      },
      "source": [
        "<a href=\"https://colab.research.google.com/github/Abdul-muizz/Abdul-Muizz.github.io/blob/main/15_Real_Transfer_Learning_using_DNN_Between_UNB2018_and_USD_IDS201_(Test).ipynb\" target=\"_parent\"><img src=\"https://colab.research.google.com/assets/colab-badge.svg\" alt=\"Open In Colab\"/></a>"
      ]
    },
    {
      "cell_type": "code",
      "execution_count": null,
      "metadata": {
        "colab": {
          "base_uri": "https://localhost:8080/"
        },
        "id": "tTW-EPOrYu-Q",
        "outputId": "13382ffa-ff46-4861-a4a9-f492fe377288"
      },
      "outputs": [
        {
          "output_type": "stream",
          "name": "stdout",
          "text": [
            "Requirement already satisfied: torchinfo in /usr/local/lib/python3.10/dist-packages (1.8.0)\n"
          ]
        }
      ],
      "source": [
        "!pip install torchinfo"
      ]
    },
    {
      "cell_type": "code",
      "execution_count": null,
      "metadata": {
        "id": "gkXEeFoEDjbJ",
        "colab": {
          "base_uri": "https://localhost:8080/"
        },
        "outputId": "6ef2ae00-50aa-4584-d8bb-e9cb3c4ffb80"
      },
      "outputs": [
        {
          "output_type": "stream",
          "name": "stdout",
          "text": [
            "Mounted at /content/drive\n",
            "/content/drive/MyDrive\n",
            "/content/drive/MyDrive\n"
          ]
        }
      ],
      "source": [
        "import datetime\n",
        "import pandas as pd\n",
        "from sklearn import tree\n",
        "import time\n",
        "import numpy as np\n",
        "from sklearn.preprocessing import MinMaxScaler\n",
        "from sklearn import svm\n",
        "from sklearn.naive_bayes import GaussianNB\n",
        "from sklearn.neighbors import KNeighborsClassifier\n",
        "import numpy as np\n",
        "from sklearn import preprocessing\n",
        "import sklearn as sk\n",
        "from sklearn.linear_model import LogisticRegression\n",
        "import os\n",
        "from sklearn.model_selection import train_test_split\n",
        "\n",
        "from sklearn.linear_model import SGDClassifier\n",
        "from sklearn.preprocessing import StandardScaler\n",
        "from sklearn.pipeline import make_pipeline\n",
        "\n",
        "from numpy import loadtxt\n",
        "from keras.models import Sequential\n",
        "from keras.layers import Dense\n",
        "\n",
        "import numpy as np\n",
        "import pandas as pd\n",
        "\n",
        "from keras.models import Model, Sequential\n",
        "from keras.callbacks import EarlyStopping, ModelCheckpoint\n",
        "from keras.layers import Dense, Input, LSTM, Embedding, Dropout, Activation\n",
        "from keras import utils as np_utils\n",
        "# from keras.layers.merge import concatenate\n",
        "#from keras.layers.normalization import BatchNormalization\n",
        "from keras.preprocessing import sequence\n",
        "from keras.preprocessing.text import Tokenizer\n",
        "# from keras.preprocessing.sequence import pad_sequences\n",
        "from keras.layers import Conv1D, MaxPooling1D, Flatten, Reshape\n",
        "import matplotlib.pyplot as plt\n",
        "\n",
        "# from keras.layers.wrappers import TimeDistributed\n",
        "\n",
        "import keras\n",
        "from sklearn import preprocessing\n",
        "import tensorflow as tf\n",
        "# from sklearn.metrics import plot_confusion_matrix\n",
        "from sklearn.metrics import multilabel_confusion_matrix\n",
        "from sklearn.metrics import confusion_matrix\n",
        "from sklearn.ensemble import RandomForestClassifier\n",
        "\n",
        "import imblearn\n",
        "from imblearn.under_sampling import RandomUnderSampler\n",
        "\n",
        "import random\n",
        "import tensorflow as tf\n",
        "from imblearn.over_sampling import SMOTE\n",
        "from torch.utils.data import Dataset, DataLoader, WeightedRandomSampler\n",
        "import torch\n",
        "import torch.nn as nn\n",
        "import torch.nn.functional as F\n",
        "import torch.optim as optim\n",
        "import torch\n",
        "from sklearn.metrics import classification_report, cohen_kappa_score\n",
        "from sklearn.metrics import precision_score, recall_score, f1_score\n",
        "from torchinfo import summary\n",
        "\n",
        "from google.colab import drive\n",
        "drive.mount(\"/content/drive\", force_remount=True)\n",
        "%cd /content/drive/MyDrive\n",
        "!pwd"
      ]
    },
    {
      "cell_type": "code",
      "execution_count": null,
      "metadata": {
        "colab": {
          "base_uri": "https://localhost:8080/"
        },
        "id": "rrPyn0ugmP6K",
        "outputId": "e9ed7205-8528-4531-b78e-cc07a7288da2"
      },
      "outputs": [
        {
          "output_type": "stream",
          "name": "stdout",
          "text": [
            "/content/drive/MyDrive/Computer_Organization_Unit_4_JWFILES.pdf\n",
            "/content/drive/MyDrive/COunit5_JWFILES.pdf\n",
            "/content/drive/MyDrive/Computer_Organization_Unit_3_JWFILES.pdf\n",
            "/content/drive/MyDrive/exchangeminmmax.c\n",
            "/content/drive/MyDrive/KELANI ABDUL MUIZZ OLAMILEKAN ADMISSION LETTER (CSE).jpg\n",
            "/content/drive/MyDrive/IMG-20170512-WA0020.jpg\n",
            "/content/drive/MyDrive/ITN_T-hub.rar\n",
            "/content/drive/MyDrive/The Failure List.pdf\n",
            "/content/drive/MyDrive/img081.jpg\n",
            "/content/drive/MyDrive/123.doc\n",
            "/content/drive/MyDrive/Curriculum Vitae (2).pdf\n",
            "/content/drive/MyDrive/Curriculum Vitae.pdf\n",
            "/content/drive/MyDrive/Full page print.pdf\n",
            "/content/drive/MyDrive/Task_1_Queries.sql\n",
            "/content/drive/MyDrive/Task_2_Query.sql\n",
            "/content/drive/MyDrive/Task_3_Query.sql\n",
            "/content/drive/MyDrive/Task_4_Query.sql\n",
            "/content/drive/MyDrive/Task_5_conf.txt\n",
            "/content/drive/MyDrive/Task 1 response 1.ssmssqlproj\n",
            "/content/drive/MyDrive/Task 1 response 2.ssmssln\n",
            "/content/drive/MyDrive/Task 2 response.ssmssln\n",
            "/content/drive/MyDrive/Task 3 response.ssmssln\n",
            "/content/drive/MyDrive/Task 4 response.ssmssln\n",
            "/content/drive/MyDrive/doc.pdf\n",
            "/content/drive/MyDrive/Abdul muizz Kelani.vcf\n",
            "/content/drive/MyDrive/completed unist application.rtf.gdoc\n",
            "/content/drive/MyDrive/Lawyers documents .gdoc\n",
            "/content/drive/MyDrive/Untitled document.gdoc\n",
            "/content/drive/MyDrive/Assignment .gdoc\n",
            "/content/drive/MyDrive/Assignment .docx\n",
            "/content/drive/MyDrive/Untitled document.docx\n",
            "/content/drive/MyDrive/music.docx\n",
            "/content/drive/MyDrive/mtld.docx\n",
            "/content/drive/MyDrive/Sociology assignment .docx\n",
            "/content/drive/MyDrive/711.docx\n",
            "/content/drive/MyDrive/711.gdoc\n",
            "/content/drive/MyDrive/ASSIGNMENT ON EDUCATIONAL PSYCHOLOGY.docx\n",
            "/content/drive/MyDrive/ASSIGNMENT 2 ON EDUCATIONAL PSYCHOLOGY 2.docx\n",
            "/content/drive/MyDrive/ASSIGNMENT 4 ON EDUCATIONAL PSYCHOLOGY 4.docx\n",
            "/content/drive/MyDrive/ASSIGNMENT 3 ON EDUCATIONAL PSYCHOLOGY 3.docx\n",
            "/content/drive/MyDrive/ASSIGNMENT 1 ON EDUCATIONAL PSYCHOLOGY 1.docx\n",
            "/content/drive/MyDrive/philosophy of education 2.docx\n",
            "/content/drive/MyDrive/PHILOSOPHY OF EDUCATION 1.docx\n",
            "/content/drive/MyDrive/709.docx\n",
            "/content/drive/MyDrive/scholarship .docx\n",
            "/content/drive/MyDrive/scholarship 2.docx\n",
            "/content/drive/MyDrive/20200424_185353_0000.png\n",
            "/content/drive/MyDrive/mtld 806 Assignment .docx\n",
            "/content/drive/MyDrive/ (MTLD 806_832).docx\n",
            "/content/drive/MyDrive/MTLD GROUP ASSIGNMENT.docx\n",
            "/content/drive/MyDrive/702 Discussion .docx\n",
            "/content/drive/MyDrive/704 Assignment .docx\n",
            "/content/drive/MyDrive/Resume.pdf\n",
            "/content/drive/MyDrive/Route to walmart.gmap\n",
            "/content/drive/MyDrive/L14(ECB).pdf\n",
            "/content/drive/MyDrive/L15(Fields-Rings).pdf\n",
            "/content/drive/MyDrive/L01(Cryptography).pdf\n",
            "/content/drive/MyDrive/L20(Steganography).pdf\n",
            "/content/drive/MyDrive/L06(NumTh3-Eucl).pdf\n",
            "/content/drive/MyDrive/L09(CRT).pdf\n",
            "/content/drive/MyDrive/L10(CRT).pdf\n",
            "/content/drive/MyDrive/L18(Hash).pdf\n",
            "/content/drive/MyDrive/L03(Crypt-PlayF).pdf\n",
            "/content/drive/MyDrive/L05(Cryptography-NumTh).pdf\n",
            "/content/drive/MyDrive/L17(AES)-Notes.pdf\n",
            "/content/drive/MyDrive/CIS6570 (01) W21 - Cryptography & Cryptanalysis - 292021 - 635 PM.zip\n",
            "/content/drive/MyDrive/Lab9(AES-Hash)P.pdf\n",
            "/content/drive/MyDrive/L02Real.pdf\n",
            "/content/drive/MyDrive/Crypto-Review6pg (1).pdf\n",
            "/content/drive/MyDrive/L07NumTh.pdf\n",
            "/content/drive/MyDrive/Lab9P.pdf\n",
            "/content/drive/MyDrive/L11(RSA) (1).pdf\n",
            "/content/drive/MyDrive/L04(Cryptography).pdf\n",
            "/content/drive/MyDrive/InvPolyGF2m.pdf\n",
            "/content/drive/MyDrive/Crypto-Review (1).pdf\n",
            "/content/drive/MyDrive/CIS6570L00.pdf\n",
            "/content/drive/MyDrive/L21(ECC)N.pdf\n",
            "/content/drive/MyDrive/Cryptography-DES (2).pdf\n",
            "/content/drive/MyDrive/L08Hill-Cipher.pdf\n",
            "/content/drive/MyDrive/L13(Cryp--PrimT-g).pdf\n",
            "/content/drive/MyDrive/Matrices-Tutorial.pdf\n",
            "/content/drive/MyDrive/Lab03-Pres.pdf\n",
            "/content/drive/MyDrive/Public Research.gform\n",
            "/content/drive/MyDrive/Public Research (Responses).gsheet\n",
            "/content/drive/MyDrive/Byes Userflow.pdf\n",
            "/content/drive/MyDrive/PROJECT STATUS REPORT 2.pdf\n",
            "/content/drive/MyDrive/User Persona.pdf\n",
            "/content/drive/MyDrive/Resume Web app.pdf\n",
            "/content/drive/MyDrive/Abdul-muizz_Kelani_-_Software_Developer.pdf\n",
            "/content/drive/MyDrive/FigmaSetup.exe\n",
            "/content/drive/MyDrive/Portfolio.gsite\n",
            "/content/drive/MyDrive/Design part 1.pdf\n",
            "/content/drive/MyDrive/learn-figma-user-interface-design-essentials-ui-ux-design-20211225T142149Z-002.zip\n",
            "/content/drive/MyDrive/71-111.pdf\n",
            "/content/drive/MyDrive/Your big idea.gslides\n",
            "/content/drive/MyDrive/Untitled presentation.gslides\n",
            "/content/drive/MyDrive/Copy of AI Tech Agency | by Slidesgo.gslides\n",
            "/content/drive/MyDrive/General presentation.gslides\n",
            "/content/drive/MyDrive/Abdul-muizz_Kelani_-_Software_Developer_and_Product_Designer.pdf\n",
            "/content/drive/MyDrive/Curriculum Vitae (1).pdf\n",
            "/content/drive/MyDrive/Kelani Presentation 3. (1).pdf\n",
            "/content/drive/MyDrive/Project Wireframes.gslides\n",
            "/content/drive/MyDrive/Tuesday-WorkingHours.csv\n",
            "/content/drive/MyDrive/Seminar.gslides\n",
            "/content/drive/MyDrive/Datasets.gslides\n",
            "/content/drive/MyDrive/IE8-Win7-VMWare.mf\n",
            "/content/drive/MyDrive/IE8-Win7-VMWare.ovf\n",
            "/content/drive/MyDrive/Untitled form.gform\n",
            "/content/drive/MyDrive/525763ec-d331-4d56-ab3c-5b4749b432c0.JPG\n",
            "/content/drive/MyDrive/Copy of DrDoS_NTP.csv\n",
            "/content/drive/MyDrive/Copy of Portmap.csv\n",
            "/content/drive/MyDrive/CIC-IDS-2018-Dataset.zip\n",
            "/content/drive/MyDrive/USB-IDS Datasets.zip\n",
            "/content/drive/MyDrive/PROCESSED_USB-IDS_Dataset.csv\n",
            "/content/drive/MyDrive/PROCESSED_MULTI2018_Dataset.csv\n",
            "/content/drive/MyDrive/Algorithms-S. Dasgupta, C. H. Papadimitriou, and U. V. Vazirani.pdf\n",
            "/content/drive/MyDrive/Discrete Mathematics and Its Applications - Kenneth Rosen (2012).pdf\n",
            "/content/drive/MyDrive/Mathematics for Computer Science.pdf\n",
            "/content/drive/MyDrive/Mathematics for Machine Learning.pdf\n",
            "/content/drive/MyDrive/McGraw.Hill_.Discrete.Mathematics.and_.Its_.Applications.7th.Edition.Jun_.2011.pdf\n",
            "/content/drive/MyDrive/2020_Book_ArtificialIntelligence.pdf\n",
            "/content/drive/MyDrive/Metasploit_ The Penetration Te - David Kennedy & Devon Kearns_7.pdf\n",
            "/content/drive/MyDrive/[FWD Dataset For 2021 Dataset.csv\n",
            "/content/drive/MyDrive/merge_data for 2018 Dataset.csv\n",
            "/content/drive/MyDrive/[FWD Dataset For Tl projects from ]_software.ipynb\n",
            "/content/drive/MyDrive/New 2018 Dataset (1).csv\n",
            "/content/drive/MyDrive/New 2018 Dataset.csv\n",
            "/content/drive/MyDrive/NEW 2021 DATASET.csv\n",
            "/content/drive/MyDrive/NEW 2021 DATASET (1).csv\n",
            "/content/drive/MyDrive/2018 Dataset.csv\n",
            "/content/drive/MyDrive/2021 Dataset Recent.csv\n",
            "/content/drive/MyDrive/2018 Dataset Recent.csv\n",
            "/content/drive/MyDrive/USB-IDS2021_New.csv\n",
            "/content/drive/MyDrive/Revised_2021_Dataset.csv\n",
            "/content/drive/MyDrive/Test_2018_df.csv\n",
            "/content/drive/MyDrive/merge_data_2021.to_csv\n",
            "/content/drive/MyDrive/merge_data_2018.to_csv\n",
            "/content/drive/MyDrive/Feature based Transfer learning Intrusion Detection System.pdf\n",
            "/content/drive/MyDrive/merge_data_2018.csv\n",
            "/content/drive/MyDrive/Revisedest_2018_df.csv\n",
            "/content/drive/MyDrive/Cl letter /Muizz.gdoc\n",
            "/content/drive/MyDrive/Colab Notebooks/15% Real Transfer Learning using DNN Between UNB2018 and USD-IDS201 (Test).ipynb\n",
            "/content/drive/MyDrive/Colab Notebooks/Untitled0.ipynb\n",
            "/content/drive/MyDrive/Colab Notebooks/Assignment 1.ipynb\n",
            "/content/drive/MyDrive/Colab Notebooks/Copy of Untitled2.ipynb\n",
            "/content/drive/MyDrive/Colab Notebooks/Assignment2.ipynb\n",
            "/content/drive/MyDrive/Colab Notebooks/Copy of Assignment2.ipynb\n",
            "/content/drive/MyDrive/Colab Notebooks/TensorFlow2_MNIST_Demo.ipynb\n",
            "/content/drive/MyDrive/Colab Notebooks/Copy of ScientificPython.ipynb\n",
            "/content/drive/MyDrive/Colab Notebooks/Untitled (12)\n",
            "/content/drive/MyDrive/Colab Notebooks/Week1.ipynb\n",
            "/content/drive/MyDrive/Colab Notebooks/Kelani_Abdulmuizz.ipynb\n",
            "/content/drive/MyDrive/Colab Notebooks/Copy of Kelani_Abdulmuizz (9).ipynb\n",
            "/content/drive/MyDrive/Colab Notebooks/Untitled (11)\n",
            "/content/drive/MyDrive/Colab Notebooks/Copy of Kelani_Abdulmuizz (8).ipynb\n",
            "/content/drive/MyDrive/Colab Notebooks/Kelani_Abdulmuizz_ProjectF21.ipynb\n",
            "/content/drive/MyDrive/Colab Notebooks/Untitled1.ipynb\n",
            "/content/drive/MyDrive/Colab Notebooks/Copy of Kelani_Abdulmuizz (7).ipynb\n",
            "/content/drive/MyDrive/Colab Notebooks/Copy of Kelani_Abdulmuizz (6).ipynb\n",
            "/content/drive/MyDrive/Colab Notebooks/Copy of Kelani_Abdulmuizz (5).ipynb\n",
            "/content/drive/MyDrive/Colab Notebooks/Copy of Kelani_Abdulmuizz (4).ipynb\n",
            "/content/drive/MyDrive/Colab Notebooks/Copy of Kelani_Abdulmuizz (3).ipynb\n",
            "/content/drive/MyDrive/Colab Notebooks/Copy of Kelani_Abdulmuizz (2).ipynb\n",
            "/content/drive/MyDrive/Colab Notebooks/Copy of Kelani_Abdulmuizz (1).ipynb\n",
            "/content/drive/MyDrive/Colab Notebooks/Copy of Kelani_Abdulmuizz.ipynb\n",
            "/content/drive/MyDrive/Colab Notebooks/Kelani_Abdulmuizz_ProjectF21 (1).ipynb\n",
            "/content/drive/MyDrive/Colab Notebooks/test.ipynb\n",
            "/content/drive/MyDrive/Colab Notebooks/Untitled2.ipynb\n",
            "/content/drive/MyDrive/Colab Notebooks/Neural network.ipynb\n",
            "/content/drive/MyDrive/Colab Notebooks/Copy of Neural network.ipynb\n",
            "/content/drive/MyDrive/Colab Notebooks/Research.ipynb\n",
            "/content/drive/MyDrive/Colab Notebooks/Untitled3.ipynb\n",
            "/content/drive/MyDrive/Colab Notebooks/Fcc-bikes-regression\n",
            "/content/drive/MyDrive/Colab Notebooks/Data Breakdown.ipynb\n",
            "/content/drive/MyDrive/Colab Notebooks/Decison-Tree Training Experiment.ipynb\n",
            "/content/drive/MyDrive/Colab Notebooks/Random Forest Classifier.ipynb\n",
            "/content/drive/MyDrive/Colab Notebooks/Autoenocders.ipynb\n",
            "/content/drive/MyDrive/Colab Notebooks/Untitled (10)\n",
            "/content/drive/MyDrive/Colab Notebooks/TL.ipynb\n",
            "/content/drive/MyDrive/Colab Notebooks/MagicDataset.ipynb\n",
            "/content/drive/MyDrive/Colab Notebooks/MyDataBuildup.ipynb\n",
            "/content/drive/MyDrive/Colab Notebooks/Copy of DNN and TL (1).ipynb\n",
            "/content/drive/MyDrive/Colab Notebooks/CNN for CICIDS2018 Dataset.ipynb\n",
            "/content/drive/MyDrive/Colab Notebooks/TLFrom18to19.ipynb\n",
            "/content/drive/MyDrive/Colab Notebooks/Concatenating the dataset from CICDDOS2019 Dataset.ipynb\n",
            "/content/drive/MyDrive/Colab Notebooks/USB-IDS LATEST CONCATENATION .ipynb\n",
            "/content/drive/MyDrive/Colab Notebooks/Multiclassification dataset for 2018 dataset.ipynb\n",
            "/content/drive/MyDrive/Colab Notebooks/Tl test.ipynb\n",
            "/content/drive/MyDrive/Colab Notebooks/Copy of DNN and TL.ipynb\n",
            "/content/drive/MyDrive/Colab Notebooks/Copy_of_DNN_and_TL.ipynb\n",
            "/content/drive/MyDrive/Colab Notebooks/CNNMulticlassification2018.ipynb\n",
            "/content/drive/MyDrive/Colab Notebooks/Copy of CNNMulticlassification2018.ipynb\n",
            "/content/drive/MyDrive/Colab Notebooks/newTl.ipynb\n",
            "/content/drive/MyDrive/Colab Notebooks/Untitled (9)\n",
            "/content/drive/MyDrive/Colab Notebooks/Untitled4.ipynb\n",
            "/content/drive/MyDrive/Colab Notebooks/CNN.ipynb\n",
            "/content/drive/MyDrive/Colab Notebooks/Untitled (8)\n",
            "/content/drive/MyDrive/Colab Notebooks/Untitled (7)\n",
            "/content/drive/MyDrive/Colab Notebooks/DNN.ipynb\n",
            "/content/drive/MyDrive/Colab Notebooks/LSTM (1).ipynb\n",
            "/content/drive/MyDrive/Colab Notebooks/Untitled5.ipynb\n",
            "/content/drive/MyDrive/Colab Notebooks/[FWD_Dataset_For_Tl_projects_from_USB-IDS]_software.ipynb\n",
            "/content/drive/MyDrive/Colab Notebooks/Featureselectionfor2018.ipynb\n",
            "/content/drive/MyDrive/Colab Notebooks/Featureselectionfor2021Dataset.ipynb\n",
            "/content/drive/MyDrive/Colab Notebooks/Building the Dataset to be used for the baseline experiments.ipynb\n",
            "/content/drive/MyDrive/Colab Notebooks/featureselection_testfor2021.ipynb\n",
            "/content/drive/MyDrive/Colab Notebooks/Untitled (6)\n",
            "/content/drive/MyDrive/Colab Notebooks/featureselection_testfor2018.ipynb\n",
            "/content/drive/MyDrive/Colab Notebooks/Untitled (5)\n",
            "/content/drive/MyDrive/Colab Notebooks/Transfer Learning using DNN Between UNB2018 and USD-IDS201.ipynb\n",
            "/content/drive/MyDrive/Colab Notebooks/Copy of Transfer Learning using DNN Between UNB2018 and USD-IDS201 (Test).ipynb\n",
            "/content/drive/MyDrive/Colab Notebooks/Copy of Test of Transfer Learning using DNN Between UNB2018 and USD-IDS201 (Test).ipynb\n",
            "/content/drive/MyDrive/Colab Notebooks/Copy of Copy of Test of Transfer Learning using DNN Between UNB2018 and USD-IDS201 (Test).ipynb\n",
            "/content/drive/MyDrive/Colab Notebooks/Untitled (4)\n",
            "/content/drive/MyDrive/Colab Notebooks/Copy CNN-RGK for Test.ipynb\n",
            "/content/drive/MyDrive/Colab Notebooks/DNN and TL.ipynb\n",
            "/content/drive/MyDrive/Colab Notebooks/Copy of CNN-RGK to Try.ipynb\n",
            "/content/drive/MyDrive/Colab Notebooks/Copy of NAIVE_BYES_.ipynb\n",
            "/content/drive/MyDrive/Colab Notebooks/Untitled (3)\n",
            "/content/drive/MyDrive/Colab Notebooks/Untitled (2)\n",
            "/content/drive/MyDrive/Colab Notebooks/big_data.ipynb\n",
            "/content/drive/MyDrive/Colab Notebooks/Merge2021Dataset.ipynb\n",
            "/content/drive/MyDrive/Colab Notebooks/Dataset Transfer.ipynb\n",
            "/content/drive/MyDrive/Colab Notebooks/CNN-RGK to Try.ipynb\n",
            "/content/drive/MyDrive/Colab Notebooks/My Naive Byes Algorithm.ipynb\n",
            "/content/drive/MyDrive/Colab Notebooks/LSTM.ipynb\n",
            "/content/drive/MyDrive/Colab Notebooks/Copy of Naive Byes Algorithm.ipynb\n",
            "/content/drive/MyDrive/Colab Notebooks/Revised 2021 Dataset.ipynb\n",
            "/content/drive/MyDrive/Colab Notebooks/DNN on USB-IDS2021.ipynb\n",
            "/content/drive/MyDrive/Colab Notebooks/75% Training DNN on USB-IDS2021.ipynb\n",
            "/content/drive/MyDrive/Colab Notebooks/Untitled (1)\n",
            "/content/drive/MyDrive/Colab Notebooks/Real Transfer Learning using DNN Between UNB2018 and USD-IDS201 (Test).ipynb\n",
            "/content/drive/MyDrive/Colab Notebooks/Copy of Copy of Real Transfer Learning using DNN Between UNB2018 and USD-IDS201 (Test).ipynb\n",
            "/content/drive/MyDrive/Colab Notebooks/Untitled6.ipynb\n",
            "/content/drive/MyDrive/Colab Notebooks/Copy of Real Transfer Learning using DNN Between UNB2018 and USD-IDS201 (Test).ipynb\n",
            "/content/drive/MyDrive/Colab Notebooks/ Revised 2018 Dataset.ipynb\n",
            "/content/drive/MyDrive/Colab Notebooks/Copy of Copy of Copy of Copy of Real Transfer Learning using DNN Between UNB2018 and USD-IDS201 (Test).ipynb\n",
            "/content/drive/MyDrive/Colab Notebooks/ The Real CNN.ipynb\n",
            "/content/drive/MyDrive/Colab Notebooks/60% Training for Real Transfer Learning using DNN Between UNB2018 and USD-IDS201 (Test).ipynb\n",
            "/content/drive/MyDrive/Colab Notebooks/Copy of 44% Validation for Real Transfer Learning using DNN Between UNB2018 and USD-IDS201 (Test).ipynb\n",
            "/content/drive/MyDrive/Colab Notebooks/Copy of Confirmed Real Transfer Learning using DNN Between UNB2018 and USD-IDS201 (Test) (1).ipynb\n",
            "/content/drive/MyDrive/Colab Notebooks/75% Training Transfer Learning using DNN Between UNB2018 and USD-IDS201 (Test).ipynb\n",
            "/content/drive/MyDrive/Colab Notebooks/The Real CNN (Old).ipynb\n",
            "/content/drive/MyDrive/Colab Notebooks/NAIVE_BYES_.ipynb\n",
            "/content/drive/MyDrive/Colab Notebooks/Untitled\n",
            "/content/drive/MyDrive/Colab Notebooks/Copy of Copy of DNN on USB-IDS2021.ipynb\n",
            "/content/drive/MyDrive/CICIDS2017/Monday-WorkingHours.csv\n",
            "/content/drive/MyDrive/CICIDS2017/Tuesday-WorkingHours.csv\n",
            "/content/drive/MyDrive/CICIDS2017/Wednesday-WorkingHours.csv\n",
            "/content/drive/MyDrive/CICIDS2017/Thursday-WorkingHours (2).csv\n",
            "/content/drive/MyDrive/CICIDS2017/Friday-WorkingHours.csv\n",
            "/content/drive/MyDrive/Data/USB-IDS-1-TRAIN.rar\n",
            "/content/drive/MyDrive/Data/USB-IDS-1-TRAIN.zip\n",
            "/content/drive/MyDrive/CIC-IDS-2018/processed_friday_dataset.csv\n",
            "/content/drive/MyDrive/CIC-IDS-2018/model_jlib\n",
            "/content/drive/MyDrive/CIC-IDS-2018/decision-tree-classifier.pkl\n",
            "/content/drive/MyDrive/CIC-IDS-2018/random-forest-classifier.pkl\n",
            "/content/drive/MyDrive/CIC-IDS-2018/PROCESSED_MULTI2018_Dataset.csv\n",
            "/content/drive/MyDrive/CIC-IDS-2018/CNN_Binary_train_on_CIC-IDS-2018.h5\n",
            "/content/drive/MyDrive/CIC-IDS-2018/CNN_Multiclassification_on_CIC-IDS-2018.h5\n",
            "/content/drive/MyDrive/CIC-IDS-2018/merge_data.csv\n",
            "/content/drive/MyDrive/CIC-IDS-2018/CIC-IDS-2018-Dataset/Friday-02-03-2018_TrafficForML_CICFlowMeter.csv\n",
            "/content/drive/MyDrive/CIC-IDS-2018/CIC-IDS-2018-Dataset/Friday-16-02-2018_TrafficForML_CICFlowMeter.csv\n",
            "/content/drive/MyDrive/CIC-IDS-2018/CIC-IDS-2018-Dataset/Friday-23-02-2018_TrafficForML_CICFlowMeter.csv\n",
            "/content/drive/MyDrive/CIC-IDS-2018/CIC-IDS-2018-Dataset/Thuesday-20-02-2018_TrafficForML_CICFlowMeter.csv\n",
            "/content/drive/MyDrive/CIC-IDS-2018/CIC-IDS-2018-Dataset/Thursday-01-03-2018_TrafficForML_CICFlowMeter.csv\n",
            "/content/drive/MyDrive/CIC-IDS-2018/CIC-IDS-2018-Dataset/Thursday-15-02-2018_TrafficForML_CICFlowMeter.csv\n",
            "/content/drive/MyDrive/CIC-IDS-2018/CIC-IDS-2018-Dataset/Thursday-22-02-2018_TrafficForML_CICFlowMeter.csv\n",
            "/content/drive/MyDrive/CIC-IDS-2018/CIC-IDS-2018-Dataset/Wednesday-14-02-2018_TrafficForML_CICFlowMeter.csv\n",
            "/content/drive/MyDrive/CIC-IDS-2018/CIC-IDS-2018-Dataset/Wednesday-21-02-2018_TrafficForML_CICFlowMeter.csv\n",
            "/content/drive/MyDrive/CIC-IDS-2018/CIC-IDS-2018-Dataset/Wednesday-28-02-2018_TrafficForML_CICFlowMeter.csv\n",
            "/content/drive/MyDrive/CIC-IDS-2018/CIC-IDS-2018-Dataset/.~lock.Thuesday-20-02-2018_TrafficForML_CICFlowMeter.csv#\n",
            "/content/drive/MyDrive/CIC-IDS-2018/CIC-IDS-2018-Dataset/Copy of Friday-23-02-2018_TrafficForML_CICFlowMeter.csv\n",
            "/content/drive/MyDrive/CICDDOS2019/CSV-01-12.zip\n",
            "/content/drive/MyDrive/CICDDOS2019/processed_2019_binary_dataset.csv\n",
            "/content/drive/MyDrive/CICDDOS2019/CSV-01-12/01-12/DrDoS_LDAP.csv\n",
            "/content/drive/MyDrive/CICDDOS2019/CSV-01-12/01-12/DrDoS_MSSQL.csv\n",
            "/content/drive/MyDrive/CICDDOS2019/CSV-01-12/01-12/DrDoS_NetBIOS.csv\n",
            "/content/drive/MyDrive/CICDDOS2019/CSV-01-12/01-12/DrDoS_SNMP.csv\n",
            "/content/drive/MyDrive/CICDDOS2019/CSV-01-12/01-12/DrDoS_SSDP.csv\n",
            "/content/drive/MyDrive/CICDDOS2019/CSV-01-12/01-12/DrDoS_UDP.csv\n",
            "/content/drive/MyDrive/CICDDOS2019/CSV-01-12/01-12/UDPLag.csv\n",
            "/content/drive/MyDrive/CICDDOS2019/CSV-01-12/01-12/Syn.csv\n",
            "/content/drive/MyDrive/CICDDOS2019/CSV-01-12/01-12/TFTP.csv\n",
            "/content/drive/MyDrive/CICDDOS2019/CSV-01-12/01-12/DrDoS_DNS.csv\n",
            "/content/drive/MyDrive/CICDDOS2019/CSV-01-12/01-12/DrDoS_NTP.csv\n",
            "/content/drive/MyDrive/CICDDOS2019/03-11/Portmap.csv\n",
            "/content/drive/MyDrive/CICDDOS2019/03-11/NetBIOS.csv\n",
            "/content/drive/MyDrive/CICDDOS2019/03-11/LDAP.csv\n",
            "/content/drive/MyDrive/CICDDOS2019/03-11/MSSQL.csv\n",
            "/content/drive/MyDrive/CICDDOS2019/03-11/UDP.csv\n",
            "/content/drive/MyDrive/CICDDOS2019/03-11/UDPLag.csv\n",
            "/content/drive/MyDrive/CICDDOS2019/03-11/Syn.csv\n",
            "/content/drive/MyDrive/CICDDOS2019/03-11/.~lock.UDPLag.csv#\n",
            "/content/drive/MyDrive/USB-IDS Datasets/Slowloris-Evasive.csv\n",
            "/content/drive/MyDrive/USB-IDS Datasets/Slowloris-NoDefense.csv\n",
            "/content/drive/MyDrive/USB-IDS Datasets/Slowloris-Reqtimeout.csv\n",
            "/content/drive/MyDrive/USB-IDS Datasets/Slowloris-Security2.csv\n",
            "/content/drive/MyDrive/USB-IDS Datasets/Slowhttptest-Evasive.csv\n",
            "/content/drive/MyDrive/USB-IDS Datasets/Slowhttptest-NoDefense.csv\n",
            "/content/drive/MyDrive/USB-IDS Datasets/Slowhttptest-Reqtimeout.csv\n",
            "/content/drive/MyDrive/USB-IDS Datasets/Slowhttptest-Security2.csv\n",
            "/content/drive/MyDrive/USB-IDS Datasets/Hulk-Evasive.csv\n",
            "/content/drive/MyDrive/USB-IDS Datasets/Hulk-NoDefense.csv\n",
            "/content/drive/MyDrive/USB-IDS Datasets/Hulk-Reqtimeout.csv\n",
            "/content/drive/MyDrive/USB-IDS Datasets/Hulk-Security2.csv\n",
            "/content/drive/MyDrive/USB-IDS Datasets/TCPFlood-Evasive.csv\n",
            "/content/drive/MyDrive/USB-IDS Datasets/TCPFlood-NoDefense.csv\n",
            "/content/drive/MyDrive/USB-IDS Datasets/TCPFlood-Reqtimeout.csv\n",
            "/content/drive/MyDrive/USB-IDS Datasets/TCPFlood-Security2.csv\n",
            "/content/drive/MyDrive/USB-IDS Datasets/REGULAR.csv\n",
            "/content/drive/MyDrive/USB-IDS Datasets/USB-IDS-1-TEST.csv\n",
            "/content/drive/MyDrive/USB-IDS Datasets/USB-IDS-1-TRAIN.csv\n",
            "/content/drive/MyDrive/USB-IDS Datasets/USB-IDS-1-VALIDATION.csv\n",
            "/content/drive/MyDrive/USB-IDS Datasets/USB-IDS-1-TRAINING.csv.gz\n",
            "/content/drive/MyDrive/USB-IDS Datasets/UNSW-NB15_a_comprehensive_data_set_for_network_intrusion_detection_systems_UNSW-NB15_network_data_set.pdf\n",
            "/content/drive/MyDrive/USB-IDS Datasets/Hulk-NoDefense.csv.gz\n",
            "/content/drive/MyDrive/USB-IDS Datasets/Hulk-Reqtimeout.csv.gz\n",
            "/content/drive/MyDrive/USB-IDS Datasets/Hulk-Evasive.csv.gz\n",
            "/content/drive/MyDrive/USB-IDS Datasets/Hulk-Security2.csv.gz\n",
            "/content/drive/MyDrive/USB-IDS Datasets/TCPFlood-NoDefense.csv.gz\n",
            "/content/drive/MyDrive/USB-IDS Datasets/TCPFlood-Reqtimeout.csv.gz\n",
            "/content/drive/MyDrive/USB-IDS Datasets/TCPFlood-Evasive.csv.gz\n",
            "/content/drive/MyDrive/USB-IDS Datasets/TCPFlood-Security2.csv.gz\n",
            "/content/drive/MyDrive/USB-IDS Datasets/Slowloris-NoDefense.csv.gz\n",
            "/content/drive/MyDrive/USB-IDS Datasets/Slowloris-Reqtimeout.csv.gz\n",
            "/content/drive/MyDrive/USB-IDS Datasets/Slowloris-Evasive.csv.gz\n",
            "/content/drive/MyDrive/USB-IDS Datasets/Slowloris-Security2.csv.gz\n",
            "/content/drive/MyDrive/USB-IDS Datasets/Slowhttptest-NoDefense.csv.gz\n",
            "/content/drive/MyDrive/USB-IDS Datasets/Slowhttptest-Reqtimeout.csv.gz\n",
            "/content/drive/MyDrive/USB-IDS Datasets/Slowhttptest-Evasive.csv.gz\n",
            "/content/drive/MyDrive/USB-IDS Datasets/Slowhttptest-Security2.csv.gz\n",
            "/content/drive/MyDrive/USB-IDS Datasets/REGULAR.csv.gz\n",
            "/content/drive/MyDrive/USB-IDS Datasets/USB-IDS-1-VALIDATION.csv.gz\n",
            "/content/drive/MyDrive/USB-IDS Datasets/USB-IDS-1-TEST.csv.gz\n",
            "/content/drive/MyDrive/USB-IDS Datasets/PROCESSED_USB-IDS_Dataset.csv\n",
            "/content/drive/MyDrive/USB-IDS Datasets/PROCESSED_USB-IDS_Dataset_Latest.csv\n"
          ]
        }
      ],
      "source": [
        "#code to get the paths of files in my drive\n",
        "import os\n",
        "for dirname, _, filenames in os.walk('/content/drive/MyDrive/'):\n",
        "    for filename in filenames:\n",
        "        print(os.path.join(dirname, filename))"
      ]
    },
    {
      "cell_type": "code",
      "execution_count": null,
      "metadata": {
        "id": "IUeHtjqgKN9C"
      },
      "outputs": [],
      "source": [
        "# dd1= pd.read_csv('/content/drive/MyDrive/CIC-IDS-2018/CIC-IDS-2018-Dataset/Thursday-15-02-2018_TrafficForML_CICFlowMeter.csv')"
      ]
    },
    {
      "cell_type": "code",
      "execution_count": null,
      "metadata": {
        "id": "A0yG7sOWOxY4"
      },
      "outputs": [],
      "source": [
        "# dd2= pd.read_csv('/content/drive/MyDrive/CIC-IDS-2018/CIC-IDS-2018-Dataset/Wednesday-14-02-2018_TrafficForML_CICFlowMeter.csv')"
      ]
    },
    {
      "cell_type": "code",
      "execution_count": null,
      "metadata": {
        "id": "7BF5VeGEPFdI"
      },
      "outputs": [],
      "source": [
        "# merge_data_2018= pd.concat([dd1,dd2])"
      ]
    },
    {
      "cell_type": "code",
      "execution_count": null,
      "metadata": {
        "id": "EaK1a0ivPWXh"
      },
      "outputs": [],
      "source": [
        "# merge_data_2018.to_csv('merge_data_2018.to_csv', index=False)"
      ]
    },
    {
      "cell_type": "code",
      "execution_count": null,
      "metadata": {
        "id": "2d6zVTncRBX8"
      },
      "outputs": [],
      "source": [
        "# merge_data_2018.info()"
      ]
    },
    {
      "cell_type": "code",
      "execution_count": null,
      "metadata": {
        "id": "nVpsXDF9RYD9"
      },
      "outputs": [],
      "source": [
        "# print(merge_data_2018.columns)"
      ]
    },
    {
      "cell_type": "code",
      "execution_count": null,
      "metadata": {
        "id": "exhPcobnRp77"
      },
      "outputs": [],
      "source": [
        "# merge_data_2018.describe()"
      ]
    },
    {
      "cell_type": "code",
      "execution_count": null,
      "metadata": {
        "id": "B1hYRsDsSM2p"
      },
      "outputs": [],
      "source": [
        "# de1= pd.read_csv('/content/drive/MyDrive/USB-IDS Datasets/Hulk-Reqtimeout.csv')"
      ]
    },
    {
      "cell_type": "code",
      "execution_count": null,
      "metadata": {
        "id": "YNDZRLAKSsrZ"
      },
      "outputs": [],
      "source": [
        "# de2= pd.read_csv('/content/drive/MyDrive/USB-IDS Datasets/REGULAR.csv')"
      ]
    },
    {
      "cell_type": "code",
      "execution_count": null,
      "metadata": {
        "id": "AFqAwyOZTDJK"
      },
      "outputs": [],
      "source": [
        "# de3= pd.read_csv('/content/drive/MyDrive/USB-IDS Datasets/TCPFlood-NoDefense.csv')"
      ]
    },
    {
      "cell_type": "code",
      "execution_count": null,
      "metadata": {
        "id": "0nUZ59v3Ta_p"
      },
      "outputs": [],
      "source": [
        "# de4= pd.read_csv('/content/drive/MyDrive/USB-IDS Datasets/TCPFlood-Reqtimeout.csv')"
      ]
    },
    {
      "cell_type": "code",
      "execution_count": null,
      "metadata": {
        "id": "uzmws0CDUCaf"
      },
      "outputs": [],
      "source": [
        "# de5= pd.read_csv('/content/drive/MyDrive/USB-IDS Datasets/TCPFlood-Evasive.csv')"
      ]
    },
    {
      "cell_type": "code",
      "execution_count": null,
      "metadata": {
        "id": "2P3A4dJ8UZ3n"
      },
      "outputs": [],
      "source": [
        "# merge_data_2021= pd.concat([de1,de2,de3,de4,de5])"
      ]
    },
    {
      "cell_type": "code",
      "execution_count": null,
      "metadata": {
        "id": "c_BhRkxEUoYu"
      },
      "outputs": [],
      "source": [
        "# merge_data_2021.to_csv('merge_data_2021.to_csv', index=False)"
      ]
    },
    {
      "cell_type": "code",
      "execution_count": null,
      "metadata": {
        "id": "wkRIFPmBVrDG"
      },
      "outputs": [],
      "source": [
        "# merge_data_2021.info()"
      ]
    },
    {
      "cell_type": "code",
      "execution_count": null,
      "metadata": {
        "id": "ZkelWLOPV2Ym"
      },
      "outputs": [],
      "source": [
        "# merge_data_2021.describe()"
      ]
    },
    {
      "cell_type": "code",
      "source": [
        "de1= pd.read_csv('/content/drive/MyDrive/CIC-IDS-2018/CIC-IDS-2018-Dataset/Thursday-15-02-2018_TrafficForML_CICFlowMeter.csv',low_memory=False)\n",
        "# de2= pd.read_csv('/content/drive/MyDrive/USB-IDS Datasets/USB-IDS-1-TRAIN.csv')\n",
        "de3= pd.read_csv('/content/drive/MyDrive/CIC-IDS-2018/CIC-IDS-2018-Dataset/Wednesday-14-02-2018_TrafficForML_CICFlowMeter.csv', low_memory=False)\n",
        "# de4= pd.read_csv('/content/drive/MyDrive/USB-IDS Datasets/TCPFlood-Reqtimeout.csv')\n",
        "# de5= pd.read_csv('/content/drive/MyDrive/USB-IDS Datasets/TCPFlood-Evasive.csv')\n",
        "merge_data_2018= pd.concat([de1,de3], ignore_index=True)\n",
        "# Remove the row with \"Label\" in the \"Label\" column\n",
        "merge_data_2018 = merge_data_2018[merge_data_2018['Label'] != 'Label']\n",
        "\n",
        "# merge_data_2018.to_csv('merge_data_2018.csv', index=False)\n",
        "# Read your original CSV file\n",
        "# df = pd.read_csv('merge_data_2018.csv',low_memory=False)\n",
        "\n",
        "# Define a custom function to sample each group based on the classification label\n",
        "def custom_sample(name, group):\n",
        "    if name == 'Benign':\n",
        "        return group.sample(n=142196, replace=False)\n",
        "    elif name == 'DoS attacks-GoldenEye':\n",
        "        return group.sample(n=41508, replace=False)\n",
        "    elif name == 'FTP-BruteForce':\n",
        "        return group.sample(n=125744, replace=False)\n",
        "    elif name == 'SSH-Bruteforce':\n",
        "        return group.sample(n=50278, replace=False)\n",
        "    elif name == 'DoS attacks-Slowloris':\n",
        "        return group.sample(n=10990, replace=False)\n",
        "    else:\n",
        "        return group # or apply any other sampling logic for other groups\n",
        "\n",
        "# Group by the label column (replace 'label' with the actual name of your label column)\n",
        "grouped = merge_data_2018.groupby('Label', group_keys=False)\n",
        "\n",
        "# Apply the custom function to each group\n",
        "Revisedest_2018_df = grouped.apply(lambda group: custom_sample(group.name, group))\n",
        "\n",
        "# Save the sampled data to a new CSV file\n",
        "Revisedest_2018_df.to_csv('Revisedest_2018_df.csv', index=False)\n",
        "e = pd.read_csv('Revisedest_2018_df.csv', low_memory=False)\n",
        "print(e.shape, e['Label'].value_counts())\n",
        "print(100 * e['Label'].value_counts(normalize=True))"
      ],
      "metadata": {
        "colab": {
          "base_uri": "https://localhost:8080/"
        },
        "id": "29P9YqSbQoq3",
        "outputId": "4c476a79-a60d-4d30-c2d2-ef5b82c0ab89"
      },
      "execution_count": null,
      "outputs": [
        {
          "output_type": "stream",
          "name": "stdout",
          "text": [
            "(370716, 80) Benign                   142196\n",
            "FTP-BruteForce           125744\n",
            "SSH-Bruteforce            50278\n",
            "DoS attacks-GoldenEye     41508\n",
            "DoS attacks-Slowloris     10990\n",
            "Name: Label, dtype: int64\n",
            "Benign                   38.357125\n",
            "FTP-BruteForce           33.919227\n",
            "SSH-Bruteforce           13.562404\n",
            "DoS attacks-GoldenEye    11.196711\n",
            "DoS attacks-Slowloris     2.964533\n",
            "Name: Label, dtype: float64\n"
          ]
        }
      ]
    },
    {
      "cell_type": "code",
      "execution_count": null,
      "metadata": {
        "id": "Ua95X8jZ2tXo",
        "colab": {
          "base_uri": "https://localhost:8080/"
        },
        "outputId": "6a479708-24c7-4aa4-fc35-f7745156ff11"
      },
      "outputs": [
        {
          "output_type": "stream",
          "name": "stdout",
          "text": [
            "(370716, 69) Benign                   142196\n",
            "FTP-BruteForce           125744\n",
            "SSH-Bruteforce            50278\n",
            "DoS attacks-GoldenEye     41508\n",
            "DoS attacks-Slowloris     10990\n",
            "Name: Label, dtype: int64\n",
            "Benign                   38.357125\n",
            "FTP-BruteForce           33.919227\n",
            "SSH-Bruteforce           13.562404\n",
            "DoS attacks-GoldenEye    11.196711\n",
            "DoS attacks-Slowloris     2.964533\n",
            "Name: Label, dtype: float64\n",
            "DB2 INFO BEGINS\n",
            "(370067, 69) Hulk-Reqtimeout           142196\n",
            "Hulk-Evasive              125744\n",
            "BENIGN                     50716\n",
            "TCPFlood-Evasive           50278\n",
            "Slowhttptest-NoDefense      1133\n",
            "Name: Label, dtype: int64\n",
            "Hulk-Reqtimeout           38.424393\n",
            "Hulk-Evasive              33.978712\n",
            "BENIGN                    13.704545\n",
            "TCPFlood-Evasive          13.586188\n",
            "Slowhttptest-NoDefense     0.306161\n",
            "Name: Label, dtype: float64\n"
          ]
        }
      ],
      "source": [
        "db1 = Revisedest_2018_df\n",
        "# db1 = pd.read_csv(\"/content/drive/MyDrive/Revisedest_2018_df.csv\")\n",
        "# db1 = pd.read_csv('/content/drive/MyDrive/CIC-IDS-2018/CIC-IDS-2018-Dataset/Thursday-15-02-2018_TrafficForML_CICFlowMeter.csv')\n",
        "db1 = db1[db1['Label'] != 'Label']\n",
        "# db2 = pd.read_csv('Tuesday-WorkingHours.csv', sep=',')\n",
        "# db1 = pd.read_csv('/content/drive/MyDrive/Revisedest_2018_df.csv')\n",
        "del db1['Dst Port'], db1['Timestamp'], db1['Fwd PSH Flags'], db1['Bwd PSH Flags'], db1['Fwd URG Flags'] , db1['Bwd URG Flags'], db1['Flow Byts/s'], db1['Flow Pkts/s'], db1['Protocol'], db1['Flow Duration'], db1['CWE Flag Count']\n",
        "db2 =pd.read_csv('/content/drive/MyDrive/Revised_2021_Dataset.csv', low_memory=False)\n",
        "#del db2['Dst Port'], db2['Timestamp'], db2['Fwd PSH Flags'], db2['Bwd PSH Flags'], db2['Fwd URG Flags'] , db2['Bwd URG Flags'], db2['Flow Byts/s'], db2['Flow Pkts/s'], db2['Protocol'], db2['Flow Duration']\n",
        "del db2['Flow ID'], db2['Src IP'], db2['Src Port'], db2['Dst IP'], db2['Dst Port'] , db2['Timestamp'], db2['Fwd PSH Flags'], db2['Bwd PSH Flags'], db2['Fwd URG Flags'], db2['Bwd URG Flags'], db2['Flow Bytes/s'], db2['Flow Packets/s'], db2['Protocol'] , db2['Flow Duration'], db2['CWR Flag Count']\n",
        "# del db2['Flow ID'], db2['Src IP'], db2['Dst IP'], db2['Timestamp']\n",
        "#db3 = pd.read_csv('Wednesday-workingHours.pcap_ISCX.csv', sep=',')\n",
        "#db4 = pd.read_csv('Thursday-WorkingHours-Morning-WebAttacks.pcap_ISCX.csv', sep=',')\n",
        "#db4 = pd.read_csv('Thursday-WorkingHours.csv', sep=',')\n",
        "#db5 = pd.read_csv('Friday-WorkingHours.csv', sep=',')\n",
        "#db7 = pd.read_csv('Friday-WorkingHours-Afternoon-PortScan.pcap_ISCX.csv', sep=',')\n",
        "#db8 = pd.read_csv('Friday-WorkingHours-Afternoon-DDos.pcap_ISCX.csv', sep=',')\n",
        "#full_db = pd.concat([db1, db2, db3, db4, db5, db6, db7, db8])\n",
        "\n",
        "#print(full_db.shape, full_db[' Label'].value_counts())\n",
        "#print(100*full_db[' Label'].value_counts(normalize=True))\n",
        "print(db1.shape, db1['Label'].value_counts())\n",
        "print(100*db1['Label'].value_counts(normalize=True))\n",
        "print(\"DB2 INFO BEGINS\")\n",
        "print(db2.shape, db2['Label'].value_counts())\n",
        "print(100*db2['Label'].value_counts(normalize=True))\n",
        "#/content/drive/MyDrive/2021 Dataset Recent.csv\n",
        "#/content/drive/MyDrive/2018 Dataset Recent.csv\n",
        "#/content/drive/MyDrive/New 2018 Dataset.csv\n",
        "#/content/drive/MyDrive/NEW 2021 DATASET.csv\n",
        "#/content/drive/MyDrive/New 2018 Dataset.csv\n",
        "#/content/drive/MyDrive/NEW 2021 DATASET.csv"
      ]
    },
    {
      "cell_type": "code",
      "source": [
        "# print(db1['Tot Fwd Pkts'].unique())\n"
      ],
      "metadata": {
        "id": "vOP1cs-yooZb"
      },
      "execution_count": null,
      "outputs": []
    },
    {
      "cell_type": "code",
      "execution_count": null,
      "metadata": {
        "id": "4NZ6kKY4oPMR",
        "colab": {
          "base_uri": "https://localhost:8080/"
        },
        "outputId": "4c4d2fde-811c-4c8c-e120-23178a432682"
      },
      "outputs": [
        {
          "output_type": "execute_result",
          "data": {
            "text/plain": [
              "Index(['Total Fwd Packet', 'Total Bwd packets', 'Total Length of Fwd Packet',\n",
              "       'Total Length of Bwd Packet', 'Fwd Packet Length Max',\n",
              "       'Fwd Packet Length Min', 'Fwd Packet Length Mean',\n",
              "       'Fwd Packet Length Std', 'Bwd Packet Length Max',\n",
              "       'Bwd Packet Length Min', 'Bwd Packet Length Mean',\n",
              "       'Bwd Packet Length Std', 'Flow IAT Mean', 'Flow IAT Std',\n",
              "       'Flow IAT Max', 'Flow IAT Min', 'Fwd IAT Total', 'Fwd IAT Mean',\n",
              "       'Fwd IAT Std', 'Fwd IAT Max', 'Fwd IAT Min', 'Bwd IAT Total',\n",
              "       'Bwd IAT Mean', 'Bwd IAT Std', 'Bwd IAT Max', 'Bwd IAT Min',\n",
              "       'Fwd Header Length', 'Bwd Header Length', 'Fwd Packets/s',\n",
              "       'Bwd Packets/s', 'Packet Length Min', 'Packet Length Max',\n",
              "       'Packet Length Mean', 'Packet Length Std', 'Packet Length Variance',\n",
              "       'FIN Flag Count', 'SYN Flag Count', 'RST Flag Count', 'PSH Flag Count',\n",
              "       'ACK Flag Count', 'URG Flag Count', 'ECE Flag Count', 'Down/Up Ratio',\n",
              "       'Average Packet Size', 'Fwd Segment Size Avg', 'Bwd Segment Size Avg',\n",
              "       'Fwd Bytes/Bulk Avg', 'Fwd Packet/Bulk Avg', 'Fwd Bulk Rate Avg',\n",
              "       'Bwd Bytes/Bulk Avg', 'Bwd Packet/Bulk Avg', 'Bwd Bulk Rate Avg',\n",
              "       'Subflow Fwd Packets', 'Subflow Fwd Bytes', 'Subflow Bwd Packets',\n",
              "       'Subflow Bwd Bytes', 'FWD Init Win Bytes', 'Bwd Init Win Bytes',\n",
              "       'Fwd Act Data Pkts', 'Fwd Seg Size Min', 'Active Mean', 'Active Std',\n",
              "       'Active Max', 'Active Min', 'Idle Mean', 'Idle Std', 'Idle Max',\n",
              "       'Idle Min', 'Label'],\n",
              "      dtype='object')"
            ]
          },
          "metadata": {},
          "execution_count": 96
        }
      ],
      "source": [
        "db2.columns"
      ]
    },
    {
      "cell_type": "code",
      "source": [
        "db1.columns"
      ],
      "metadata": {
        "id": "mU0e0gAx6z_2",
        "colab": {
          "base_uri": "https://localhost:8080/"
        },
        "outputId": "dc598593-5cc2-443e-c3ac-9af6364bcc47"
      },
      "execution_count": null,
      "outputs": [
        {
          "output_type": "execute_result",
          "data": {
            "text/plain": [
              "Index(['Tot Fwd Pkts', 'Tot Bwd Pkts', 'TotLen Fwd Pkts', 'TotLen Bwd Pkts',\n",
              "       'Fwd Pkt Len Max', 'Fwd Pkt Len Min', 'Fwd Pkt Len Mean',\n",
              "       'Fwd Pkt Len Std', 'Bwd Pkt Len Max', 'Bwd Pkt Len Min',\n",
              "       'Bwd Pkt Len Mean', 'Bwd Pkt Len Std', 'Flow IAT Mean', 'Flow IAT Std',\n",
              "       'Flow IAT Max', 'Flow IAT Min', 'Fwd IAT Tot', 'Fwd IAT Mean',\n",
              "       'Fwd IAT Std', 'Fwd IAT Max', 'Fwd IAT Min', 'Bwd IAT Tot',\n",
              "       'Bwd IAT Mean', 'Bwd IAT Std', 'Bwd IAT Max', 'Bwd IAT Min',\n",
              "       'Fwd Header Len', 'Bwd Header Len', 'Fwd Pkts/s', 'Bwd Pkts/s',\n",
              "       'Pkt Len Min', 'Pkt Len Max', 'Pkt Len Mean', 'Pkt Len Std',\n",
              "       'Pkt Len Var', 'FIN Flag Cnt', 'SYN Flag Cnt', 'RST Flag Cnt',\n",
              "       'PSH Flag Cnt', 'ACK Flag Cnt', 'URG Flag Cnt', 'ECE Flag Cnt',\n",
              "       'Down/Up Ratio', 'Pkt Size Avg', 'Fwd Seg Size Avg', 'Bwd Seg Size Avg',\n",
              "       'Fwd Byts/b Avg', 'Fwd Pkts/b Avg', 'Fwd Blk Rate Avg',\n",
              "       'Bwd Byts/b Avg', 'Bwd Pkts/b Avg', 'Bwd Blk Rate Avg',\n",
              "       'Subflow Fwd Pkts', 'Subflow Fwd Byts', 'Subflow Bwd Pkts',\n",
              "       'Subflow Bwd Byts', 'Init Fwd Win Byts', 'Init Bwd Win Byts',\n",
              "       'Fwd Act Data Pkts', 'Fwd Seg Size Min', 'Active Mean', 'Active Std',\n",
              "       'Active Max', 'Active Min', 'Idle Mean', 'Idle Std', 'Idle Max',\n",
              "       'Idle Min', 'Label'],\n",
              "      dtype='object')"
            ]
          },
          "metadata": {},
          "execution_count": 97
        }
      ]
    },
    {
      "cell_type": "code",
      "execution_count": null,
      "metadata": {
        "id": "OZCj4xfazzYn"
      },
      "outputs": [],
      "source": [
        "#columns_to_drop = ['Dst Port','Protocol',\n",
        "                  #  'Timestamp',\n",
        "                  #  'Fwd PSH Flags',\n",
        "                  #  'Bwd PSH Flags',\n",
        "                  #  'Fwd URG Flags',\n",
        "                  #  'Bwd URG Flags',\n",
        "                  #  'Flow Byts/s',\n",
        "                  #  'Flow Pkts/s',\n",
        "                  #  'Flow Duration'\n",
        "                  #  ]"
      ]
    },
    {
      "cell_type": "code",
      "execution_count": null,
      "metadata": {
        "id": "T-XDqzmA0Dw-"
      },
      "outputs": [],
      "source": [
        "#df = df.drop(columns=columns_to_drop)"
      ]
    },
    {
      "cell_type": "markdown",
      "source": [
        "#Preprocessing for DB1"
      ],
      "metadata": {
        "id": "QMoJn86Y5NyF"
      }
    },
    {
      "cell_type": "code",
      "execution_count": null,
      "metadata": {
        "id": "amTCvAskRUhX"
      },
      "outputs": [],
      "source": [
        "def preprocessing1(df, vs):\n",
        "    min_max_scaler = MinMaxScaler()\n",
        "    le = preprocessing.LabelEncoder()\n",
        "\n",
        "    #train1, test = train_test_split(df, test_size=ts, random_state=0) #if I wanted to create a seperate test case\n",
        "    train, val = train_test_split(df, test_size=vs, random_state=0)\n",
        "\n",
        "    X1 = train.iloc[:,:-1]\n",
        "    y1 = train.iloc[:,-1]  #would give the last column, the column represent give me all the rows of the last column\n",
        "    X2 = val.iloc[:,:-1]\n",
        "    y2 = val.iloc[:,-1]\n",
        "\n",
        "    X1 = X1.to_numpy()\n",
        "    y1 = y1.to_numpy()\n",
        "    X2 = X2.to_numpy()\n",
        "    y2 = y2.to_numpy()\n",
        "\n",
        "    y1=le.fit_transform(y1)  #Trnaforming from cathegorical to numerical\n",
        "    y2=le.fit_transform(y2)\n",
        "\n",
        "    y1=y1.astype('int') #Converting to Integer\n",
        "    y2=y2.astype('int')\n",
        "\n",
        "    X1 = min_max_scaler.fit_transform(X1)  # Fits MinMaxscaler on x1 and y1 using fitted scaler. The result us that features i x1 are now scaled between 0 and 1.\n",
        "    X2 = min_max_scaler.fit_transform(X2)\n",
        "    return X1, y1, X2, y2\n",
        "\n",
        "df = db1\n",
        "# df = df.drop_duplicates(keep=\"first\")\n",
        "# df = df.replace([np.inf, -np.inf], np.nan).dropna(axis=0)\n",
        "# Remove non-numeric characters for all columns except the last one\n",
        "\n",
        "# '\n",
        "# for col in df.columns[:-1]:\n",
        "#     df[col] = df[col].replace('[^\\d.-]', '', regex=True)\n",
        "#     df[col] = df[col].replace('', np.nan)  # replace empty strings with NaN '\n",
        "\n",
        "# df = df.drop_duplicates(keep=\"first\")\n",
        "# df = df.replace([np.inf, -np.inf], np.nan).dropna(axis=0)  # existing lines\n",
        "\n",
        "# # replace '-' with NaN\n",
        "# #df = df.replace('-', np.nan)\n",
        "\n",
        "# # Convert to float\n",
        "# for col in df.columns[:-1]:\n",
        "#     df[col] = df[col].astype(float)\n",
        "\n",
        "# # Assuming the last column is 'label'\n",
        "# # If the labels are string categories, you might want to convert them to integer codes.\n",
        "# if df['Label'].dtype == 'object':\n",
        "#     df['Label'] = df['Label'].astype('category').cat.codes\n",
        "\n",
        "\n",
        "vs = 0.85\n",
        "X1, y1, X2, y2 = preprocessing1(df, vs)"
      ]
    },
    {
      "cell_type": "markdown",
      "metadata": {
        "id": "FAq_k3_eGMSQ"
      },
      "source": [
        "#preprocessing for DB2\n"
      ]
    },
    {
      "cell_type": "code",
      "execution_count": null,
      "metadata": {
        "id": "4xkFMVZTGRCg"
      },
      "outputs": [],
      "source": [
        "def preprocessing1(df2, vs):\n",
        "    min_max_scaler = MinMaxScaler()\n",
        "    le = preprocessing.LabelEncoder()\n",
        "\n",
        "    #train1, test = train_test_split(df, test_size=ts, random_state=0) #if I wanted to create a seperate test case\n",
        "    train, val = train_test_split(df, test_size=vs, random_state=0)\n",
        "\n",
        "    X3 = train.iloc[:,:-1]\n",
        "    y3 = train.iloc[:,-1]  #would give the last column, the column represent give me all the rows of the last column\n",
        "    X4 = val.iloc[:,:-1]\n",
        "    y4 = val.iloc[:,-1]\n",
        "\n",
        "    X3 = X3.to_numpy()\n",
        "    y3 = y3.to_numpy()\n",
        "    X4 = X4.to_numpy()\n",
        "    y4 = y4.to_numpy()\n",
        "\n",
        "    y3=le.fit_transform(y3)  #Transforming from cathegorical to numerical\n",
        "    y4=le.fit_transform(y4)\n",
        "\n",
        "    y3=y3.astype('int') #Converting to Integer\n",
        "    y4=y4.astype('int')\n",
        "\n",
        "    X3 = min_max_scaler.fit_transform(X3)  # Fits MinMaxscaler on x1 and y1 using fitted scaler. The result us that features i x1 are now scaled between 0 and 1.\n",
        "    X4 = min_max_scaler.fit_transform(X4)\n",
        "    return X3, y3, X4, y4\n",
        "\n",
        "df2 = db2\n",
        "df = df.drop_duplicates(keep=\"first\")\n",
        "df = df.replace([np.inf, -np.inf], np.nan).dropna(axis=0)\n",
        "vs = 0.85\n",
        "X3, y3, X4, y4 = preprocessing1(df, vs)"
      ]
    },
    {
      "cell_type": "markdown",
      "source": [
        "#Reshaping the first Dataset"
      ],
      "metadata": {
        "id": "rRADOnZQOQjQ"
      }
    },
    {
      "cell_type": "code",
      "execution_count": null,
      "metadata": {
        "id": "DA0Zq6GXGwRZ"
      },
      "outputs": [],
      "source": [
        "X_train12 = np.reshape(X1, (X1.shape[0], X1.shape[1])) # X1.shape[0] returns the number of rows in X1 and X1.shape[1] returns the number of columns, this line is essentially keeping the original shape of X1. The reshaped array is then stored in X_train12\n",
        "y_train12 = np.reshape(y1, (y1.shape[0]))\n",
        "\n",
        "X_val12 = np.reshape(X2, (X2.shape[0], X2.shape[1]))\n",
        "y_val12 = np.reshape(y2, (y2.shape[0]))\n"
      ]
    },
    {
      "cell_type": "markdown",
      "metadata": {
        "id": "_J2kSkx2rXMX"
      },
      "source": [
        "#Reshaping for second dataset"
      ]
    },
    {
      "cell_type": "code",
      "execution_count": null,
      "metadata": {
        "id": "T4AaVbnJrWmL"
      },
      "outputs": [],
      "source": [
        "X_train13 = np.reshape(X3, (X3.shape[0], X3.shape[1])) # X1.shape[0] returns the number of rows in X1 and X1.shape[1] returns the number of columns, this line is essentially keeping the original shape of X1. The reshaped array is then stored in X_train12\n",
        "y_train13 = np.reshape(y3, (y3.shape[0]))\n",
        "\n",
        "X_val13 = np.reshape(X4, (X4.shape[0], X4.shape[1]))\n",
        "y_val13 = np.reshape(y4, (y4.shape[0]))"
      ]
    },
    {
      "cell_type": "code",
      "execution_count": null,
      "metadata": {
        "id": "Z-BkjSFuFSiI"
      },
      "outputs": [],
      "source": [
        "from tqdm.notebook import tqdm  # for the progress bar\n",
        "class ClassifierDataset(Dataset): # This class is used to fit a huge dataset into the memory, basically data is onky loaded when it is needed, which makes it possible to work with large datasets that don't fit into memory.Some say it allows you to define your data the way you want it\n",
        "\n",
        "    def __init__(self, X_data, y_data):  #  method initializes the object, storing the features (X_data) and labels (y_data).\n",
        "        self.X_data = X_data\n",
        "        self.y_data = y_data\n",
        "\n",
        "    def __getitem__(self, index): # method is used to retrieve the feature and label for a given index. This will be used by the DataLoader to fetch data.\n",
        "        return self.X_data[index], self.y_data[index]\n",
        "\n",
        "    def __len__ (self): # method is used to get the number of items in the dataset. This is used by the DataLoader to determine the total number of batches.\n",
        "        return len(self.X_data)\n",
        "\n",
        "train_dataset = ClassifierDataset(torch.from_numpy(X_train12).float(), torch.from_numpy(y_train12).long()) # Here, torch.from_numpy(X_train12) is converting the numpy array X_train12 into a PyTorch tensor. The .float() function is then converting the datatype of this tensor to floating point, because the input to your model needs to be of float type.\n",
        "val_dataset = ClassifierDataset(torch.from_numpy(X_val12).float(), torch.from_numpy(y_val12).long())\n",
        "\n",
        "train_loader = DataLoader(dataset=train_dataset, batch_size=512,)\n",
        "val_loader = DataLoader(dataset=val_dataset, batch_size=512)\n",
        "\n",
        "#train_loader1 = DataLoader(dataset=train_dataset, batch_size=512,)\n",
        "#val_loader1 = DataLoader(dataset=val_dataset, batch_size=512)\n",
        "\n",
        "\n",
        "device = torch.device(\"cuda:0\" if torch.cuda.is_available() else \"cpu\")\n",
        "\n",
        "def multi_acc(y_pred, y_test):\n",
        "    y_pred_softmax = torch.log_softmax(y_pred, dim = 1)\n",
        "    _, y_pred_tags = torch.max(y_pred_softmax, dim = 1)\n",
        "    correct_pred = (y_pred_tags == y_test).float()\n",
        "    acc = correct_pred.sum() / len(correct_pred)\n",
        "    acc = (acc * 100)\n",
        "    return acc\n",
        "\n",
        "batch_size=512"
      ]
    },
    {
      "cell_type": "markdown",
      "metadata": {
        "id": "qTkUQ-GrrvMQ"
      },
      "source": [
        "#Creating Classifier Dataset for second dataset"
      ]
    },
    {
      "cell_type": "code",
      "execution_count": null,
      "metadata": {
        "id": "mcgr6QKYr2Xi"
      },
      "outputs": [],
      "source": [
        "from tqdm.notebook import tqdm  # for the progress bar\n",
        "class NewClassifierDataset(Dataset): # This class is used to fit a huge dataset into the memory, basically data is onky loaded when it is needed, which makes it possible to work with large datasets that don't fit into memory.Some say it allows you to define your data the way you want it\n",
        "\n",
        "    def __init__(self, X_data, y_data):  #  method initializes the object, storing the features (X_data) and labels (y_data).\n",
        "        self.X_data = X_data\n",
        "        self.y_data = y_data\n",
        "\n",
        "    def __getitem__(self, index): # method is used to retrieve the feature and label for a given index. This will be used by the DataLoader to fetch data.\n",
        "        return self.X_data[index], self.y_data[index]\n",
        "\n",
        "    def __len__ (self): # method is used to get the number of items in the dataset. This is used by the DataLoader to determine the total number of batches.\n",
        "        return len(self.X_data)\n",
        "\n",
        "train_dataset = NewClassifierDataset(torch.from_numpy(X_train13).float(), torch.from_numpy(y_train13).long()) # Here, torch.from_numpy(X_train12) is converting the numpy array X_train12 into a PyTorch tensor. The .float() function is then converting the datatype of this tensor to floating point, because the input to your model needs to be of float type.\n",
        "val_dataset = NewClassifierDataset(torch.from_numpy(X_val13).float(), torch.from_numpy(y_val13).long())\n",
        "\n",
        "# train_loader = DataLoader(dataset=train_dataset, batch_size=512,)\n",
        "# val_loader = DataLoader(dataset=val_dataset, batch_size=512)\n",
        "\n",
        "train_loader1 = DataLoader(dataset=train_dataset, batch_size=512,)\n",
        "val_loader1 = DataLoader(dataset=val_dataset, batch_size=512)\n",
        "\n",
        "\n",
        "device = torch.device(\"cuda:0\" if torch.cuda.is_available() else \"cpu\")\n",
        "\n",
        "def multi_acc(y_pred, y_test):\n",
        "    y_pred_softmax = torch.log_softmax(y_pred, dim = 1)\n",
        "    _, y_pred_tags = torch.max(y_pred_softmax, dim = 1)\n",
        "    correct_pred = (y_pred_tags == y_test).float()\n",
        "    acc = correct_pred.sum() / len(correct_pred)\n",
        "    acc = (acc * 100)\n",
        "    return acc\n",
        "\n",
        "batch_size=512"
      ]
    },
    {
      "cell_type": "code",
      "execution_count": null,
      "metadata": {
        "id": "zIS3JeZe5cgD",
        "colab": {
          "base_uri": "https://localhost:8080/",
          "height": 668,
          "referenced_widgets": [
            "ab96e873e5d7491ca1ce06e85736429a",
            "6c38002694c64128bf20b2a3dba655fe",
            "630a99bdb7854eea8b310abc620d68a9",
            "19ce2adf388a4004aa1dc78f705904c5",
            "a516850a87a64667b0d544d67a4b5ecd",
            "2b3d3c5d57be4c21a9b5ec96abcafcb6",
            "deb22267a0584f7ebcb1429c6a722705",
            "13d0e7721ff24e27a6a0a09ddd47db21",
            "6fe1a0f4007547289a4d7a43705b3992",
            "1e97bb51725f49809afc28bba22549cf",
            "f906b808b7124910ab98f3edeef6d253"
          ]
        },
        "outputId": "356fdf31-4ee3-4f88-9e55-fff3eed66c1f"
      },
      "outputs": [
        {
          "output_type": "stream",
          "name": "stdout",
          "text": [
            "Begin training.\n"
          ]
        },
        {
          "output_type": "display_data",
          "data": {
            "text/plain": [
              "  0%|          | 0/10 [00:00<?, ?it/s]"
            ],
            "application/vnd.jupyter.widget-view+json": {
              "version_major": 2,
              "version_minor": 0,
              "model_id": "ab96e873e5d7491ca1ce06e85736429a"
            }
          },
          "metadata": {}
        },
        {
          "output_type": "stream",
          "name": "stdout",
          "text": [
            "Epoch 001: | Train Loss: 0.13551   | Train Acc: 96.3231  | Val Loss: 3.52220| Val Acc: 42.5386\n",
            "Epoch 002: | Train Loss: 0.00838   | Train Acc: 99.8351  | Val Loss: 2.84321| Val Acc: 41.3692\n",
            "Epoch 003: | Train Loss: 0.01203   | Train Acc: 99.7456  | Val Loss: 1.40245| Val Acc: 73.5926\n",
            "Epoch 004: | Train Loss: 0.00630   | Train Acc: 99.8764  | Val Loss: 2.49574| Val Acc: 70.6113\n",
            "Epoch 005: | Train Loss: 0.00527   | Train Acc: 99.8746  | Val Loss: 1.65025| Val Acc: 76.2710\n",
            "Epoch 006: | Train Loss: 0.00477   | Train Acc: 99.8853  | Val Loss: 2.19332| Val Acc: 70.5191\n",
            "Epoch 007: | Train Loss: 0.00398   | Train Acc: 99.9068  | Val Loss: 2.24053| Val Acc: 71.6876\n",
            "Epoch 008: | Train Loss: 0.00520   | Train Acc: 99.8728  | Val Loss: 1.86182| Val Acc: 72.1476\n",
            "Epoch 009: | Train Loss: 0.00424   | Train Acc: 99.8907  | Val Loss: 2.12280| Val Acc: 79.3366\n",
            "Epoch 010: | Train Loss: 0.00424   | Train Acc: 99.9014  | Val Loss: 2.06623| Val Acc: 78.3849\n",
            "Training time:  54.37\n",
            "Training time: 54.37 seconds\n",
            "Confusion Matrix:\n",
            "[[121030      0      5      0      0]\n",
            " [ 28877   6366      0      0      0]\n",
            " [  6585      0   2759      0      0]\n",
            " [ 10347      0      0  96341      0]\n",
            " [ 22291      0      0      8  20500]]\n",
            "\n",
            "Classification Report:\n",
            "              precision    recall  f1-score   support\n",
            "\n",
            "           0     0.6399    1.0000    0.7804    121035\n",
            "           1     1.0000    0.1806    0.3060     35243\n",
            "           2     0.9982    0.2953    0.4557      9344\n",
            "           3     0.9999    0.9030    0.9490    106688\n",
            "           4     1.0000    0.4790    0.6477     42799\n",
            "\n",
            "    accuracy                         0.7838    315109\n",
            "   macro avg     0.9276    0.5716    0.6278    315109\n",
            "weighted avg     0.8616    0.7838    0.7568    315109\n",
            "\n",
            "\n",
            "Accuracy: 78.38%\n"
          ]
        }
      ],
      "source": [
        "import tensorflow as tf\n",
        "\n",
        "def training(model, epochs, train_loader, val_loader, criterion, optimizer, num_class):\n",
        "\n",
        "    accuracy_stats = {\n",
        "        'train': [],\n",
        "        \"val\": [],\n",
        "    }\n",
        "    loss_stats = {\n",
        "        'train': [],\n",
        "        \"val\": []\n",
        "    }\n",
        "    iii = 1\n",
        "    st = time.time()\n",
        "    print(\"Begin training.\")\n",
        "    for e in tqdm(range(epochs)):\n",
        "\n",
        "        train_epoch_loss = 0\n",
        "        train_epoch_acc = 0\n",
        "        model.train()\n",
        "        for X_train_batch, y_train_batch in train_loader:\n",
        "            X_train_batch, y_train_batch = X_train_batch.to(device), y_train_batch.to(device)\n",
        "            optimizer.zero_grad()\n",
        "\n",
        "            y_train_pred = model(X_train_batch)\n",
        "            train_loss = criterion(y_train_pred, y_train_batch)\n",
        "            train_acc = multi_acc(y_train_pred, y_train_batch)\n",
        "\n",
        "            if e != epochs - 1: #here the final epoch is removed like the following condition is not applied on the final epoch\n",
        "                train_loss.backward()\n",
        "                optimizer.step()\n",
        "\n",
        "            train_epoch_loss += train_loss.item()\n",
        "            train_epoch_acc += train_acc.item()\n",
        "\n",
        "        with torch.no_grad():\n",
        "\n",
        "            val_epoch_loss = 0\n",
        "            val_epoch_acc = 0\n",
        "\n",
        "            model.eval()\n",
        "            for X_val_batch, y_val_batch in val_loader:\n",
        "                X_val_batch, y_val_batch = X_val_batch.to(device), y_val_batch.to(device)\n",
        "\n",
        "                y_val_pred = model(X_val_batch)\n",
        "\n",
        "                val_loss = criterion(y_val_pred, y_val_batch)\n",
        "                val_acc = multi_acc(y_val_pred, y_val_batch)\n",
        "\n",
        "                val_epoch_loss += val_loss.item()\n",
        "                val_epoch_acc += val_acc.item()\n",
        "\n",
        "        loss_stats['train'].append(train_epoch_loss/len(train_loader))\n",
        "        loss_stats['val'].append(val_epoch_loss/len(val_loader))\n",
        "        accuracy_stats['train'].append(train_epoch_acc/len(train_loader))\n",
        "        accuracy_stats['val'].append(val_epoch_acc/len(val_loader))\n",
        "        print(f'Epoch {(e+1)+0:03}: | Train Loss: {train_epoch_loss/len(train_loader):.5f}   | Train Acc: {train_epoch_acc/len(train_loader):.4f}  '\n",
        "        f'| Val Loss: {val_epoch_loss/len(val_loader):.5f}'\n",
        "        f'| Val Acc: {val_epoch_acc/len(val_loader):.4f}'\n",
        "        )\n",
        "    et = time.time()\n",
        "    print(\"Training time: \", round(et-st, 2))\n",
        "    return model, accuracy_stats, loss_stats\n",
        "\n",
        "class SourceDomainClassification(nn.Module):\n",
        "  def __init__(self,numfeature,numclass):\n",
        "    super(SourceDomainClassification,self).__init__()\n",
        "    self.layer_1=nn.Linear(numfeature,512)\n",
        "    self.layer_2=nn.Linear(512,256)\n",
        "    self.layer_3=nn.Linear(256,128)\n",
        "    self.layer_4=nn.Linear(128,64)\n",
        "    self.layer_5=nn.Linear(64,32)\n",
        "    self.ReLU=nn.ReLU()\n",
        "    self.batchnorm=nn.BatchNorm1d(32)\n",
        "    self.layer_6=nn.Linear(32,numclass)\n",
        "\n",
        "  def forward ( self , x ) :\n",
        "    x = self.layer_1(x)\n",
        "    x = self.ReLU(x)\n",
        "    x = self.layer_2(x)\n",
        "    x = self.ReLU(x)\n",
        "    x = self.layer_3(x)\n",
        "    x = self.ReLU(x)\n",
        "    x = self.layer_4(x)\n",
        "    x = self.ReLU(x)\n",
        "    x = self.layer_5(x)\n",
        "    x = self.batchnorm(x)\n",
        "    x = self.ReLU(x)\n",
        "    x = self.layer_6(x)\n",
        "    return  x\n",
        "\n",
        "num_class=5\n",
        "model= SourceDomainClassification(numfeature=68, numclass=5)\n",
        "\n",
        "criterion = nn.CrossEntropyLoss()\n",
        "optimizer = optim.Adam(model.parameters(), lr=0.01)\n",
        "epochs=10\n",
        "start_time = time.time()\n",
        "new1, acc, loss = training(model, epochs, train_loader, val_loader, criterion, optimizer, num_class)\n",
        "end_time = time.time()\n",
        "elapsed_time = end_time - start_time\n",
        "\n",
        "print(\"Training time: {:.2f} seconds\".format(elapsed_time))\n",
        "with torch.no_grad():\n",
        "    model.eval()\n",
        "    all_labels = []\n",
        "    all_predictions = []\n",
        "\n",
        "    for X_val_batch, y_val_batch in val_loader:\n",
        "        X_val_batch, y_val_batch = X_val_batch.to(device), y_val_batch.to(device)\n",
        "\n",
        "        y_val_pred = model(X_val_batch)\n",
        "        _, predicted = torch.max(y_val_pred.data, 1)\n",
        "\n",
        "        all_labels.extend(y_val_batch.tolist())\n",
        "        all_predictions.extend(predicted.tolist())\n",
        "\n",
        "    # target_names = ['DoS attacks-Hulk', 'FTP-BruteForce', 'BENIGN', 'SSH-Bruteforce', 'DoS attacks-SlowHTTPTest']\n",
        "\n",
        "    cm = confusion_matrix(all_labels, all_predictions)\n",
        "    # classification_rep = classification_report(all_labels, all_predictions, target_names=target_names,digits=4)\n",
        "    classification_rep = classification_report(all_labels, all_predictions,digits=4)\n",
        "    accuracy = (np.array(all_labels) == np.array(all_predictions)).mean() * 100\n",
        "\n",
        "    print(\"Confusion Matrix:\")\n",
        "    print(cm)\n",
        "    print(\"\\nClassification Report:\")\n",
        "    print(classification_rep)\n",
        "    print(\"\\nAccuracy: {:.2f}%\".format(accuracy))\n",
        "#     from sklearn.metrics import classification_report\n",
        "# print(classification_rep(y_true, y_pred, digits=5))\n"
      ]
    },
    {
      "cell_type": "code",
      "execution_count": null,
      "metadata": {
        "id": "ysX2aUaJTCxa",
        "colab": {
          "base_uri": "https://localhost:8080/",
          "height": 931
        },
        "outputId": "ec8d8537-d206-4960-c8fe-891798d8c3d1"
      },
      "outputs": [
        {
          "output_type": "display_data",
          "data": {
            "text/plain": [
              "<Figure size 640x480 with 1 Axes>"
            ],
            "image/png": "[encoded data removed]"
          },
          "metadata": {}
        },
        {
          "output_type": "display_data",
          "data": {
            "text/plain": [
              "<Figure size 640x480 with 1 Axes>"
            ],
            "image/png": "[encoded data removed]"
          },
          "metadata": {}
        }
      ],
      "source": [
        "\n",
        "def plotAcc(acc):\n",
        "    plt.title(\"Accuracy\",fontsize=15)\n",
        "    plt.plot(acc['train'])\n",
        "    plt.plot(acc['val'])\n",
        "    plt.ylabel('acc')\n",
        "    plt.xlabel('epoch')\n",
        "    plt.legend(['train', 'val'], loc='upper left')\n",
        "    plt.show()\n",
        "\n",
        "def plotLoss(loss):\n",
        "    plt.title(\"Loss\",fontsize=15)\n",
        "    plt.plot(loss['train'])\n",
        "    plt.plot(loss['val'])\n",
        "    plt.ylabel('loss')\n",
        "    plt.xlabel('epoch')\n",
        "    plt.legend(['train', 'val'], loc='upper left')\n",
        "    plt.show()\n",
        "\n",
        "plotAcc(acc)\n",
        "plotLoss(loss)"
      ]
    },
    {
      "cell_type": "code",
      "execution_count": null,
      "metadata": {
        "id": "hQFqKWLt5sp_",
        "colab": {
          "base_uri": "https://localhost:8080/"
        },
        "outputId": "432abe50-9f17-4b7a-b8ff-9be73ef105a4"
      },
      "outputs": [
        {
          "output_type": "stream",
          "name": "stdout",
          "text": [
            "[Linear(in_features=68, out_features=512, bias=True), Linear(in_features=512, out_features=256, bias=True), Linear(in_features=256, out_features=128, bias=True), Linear(in_features=128, out_features=64, bias=True), Linear(in_features=64, out_features=32, bias=True), ReLU(), BatchNorm1d(32, eps=1e-05, momentum=0.1, affine=True, track_running_stats=True), Linear(in_features=32, out_features=5, bias=True)]\n",
            "[Linear(in_features=68, out_features=512, bias=True), Linear(in_features=512, out_features=256, bias=True), Linear(in_features=256, out_features=128, bias=True), Linear(in_features=128, out_features=64, bias=True), Linear(in_features=64, out_features=32, bias=True), ReLU()]\n"
          ]
        }
      ],
      "source": [
        "print(list ( new1.children ( ) ))\n",
        "print(list ( new1.children ( ) ) [ :-2 ])"
      ]
    },
    {
      "cell_type": "code",
      "execution_count": null,
      "metadata": {
        "id": "JIfFxnNo2_Wo",
        "colab": {
          "base_uri": "https://localhost:8080/",
          "height": 1000
        },
        "outputId": "02d69721-0076-4d53-8f62-02aaba50b46d"
      },
      "outputs": [
        {
          "output_type": "stream",
          "name": "stdout",
          "text": [
            "Epoch [10/20], Training Loss: 0.1040\n",
            "Epoch [20/20], Training Loss: 0.0398\n",
            "Training time: 21.23 seconds\n",
            "Accuracy of the network on train data: 81 %\n",
            "Accuracy of the network on val data: 68 %\n"
          ]
        },
        {
          "output_type": "display_data",
          "data": {
            "text/plain": [
              "<Figure size 640x480 with 1 Axes>"
            ],
            "image/png": "[encoded data removed]"
          },
          "metadata": {}
        },
        {
          "output_type": "display_data",
          "data": {
            "text/plain": [
              "<Figure size 640x480 with 1 Axes>"
            ],
            "image/png": "[encoded data removed]"
          },
          "metadata": {}
        }
      ],
      "source": [
        "class BDPDNN2Classification (nn.Module ):\n",
        "  def __init__ ( self,baseModel,num_class ) :   #For DoS Attacks , num class=6\n",
        "    super ( BDPDNN2Classification , self ).__init__ ( )\n",
        "    # self.baseModel = nn.Sequential (* list ( baseModel.children ( ) ) [ :-2 ] )\n",
        "    self.baseModel = nn.Sequential (* list ( baseModel.children ( ) ) )\n",
        "    self.batchnorm1new = nn.BatchNorm1d(5)\n",
        "    self.ReLU = nn.ReLU( )\n",
        "    self.layer_new_out = nn.Linear(5,num_class)\n",
        "    torch.nn.init.ones_(self.layer_new_out.bias)\n",
        "    torch.nn.init.normal_(self.layer_new_out.weight)\n",
        "\n",
        "  def forward ( self , x ) :\n",
        "    for name , param in self.baseModel.named_parameters() :\n",
        "      if name == \"0.weight\" or name == \"0.bias\" :\n",
        "        param.requires_grad = False\n",
        "      if name == \"1.weight\" or name == \"1.bias\" :\n",
        "          param.requires_grad = False\n",
        "      if name == \"2.weight\" or name == \"2.bias\" :\n",
        "          param.requires_grad = True\n",
        "      if name == \"3.weight\" or name == \"3.bias\" :\n",
        "          param.requires_grad = True\n",
        "      if name == \"4.weight\" or name == \"4.bias\" :\n",
        "        param.requiresgrad = True\n",
        "    x = self.ReLU(self.batchnorm1new(self.baseModel(x)))\n",
        "    x = self.layer_new_out(x)\n",
        "    return x\n",
        "\n",
        "\n",
        "\n",
        "def predict(model, train_loader, val_loader, num_classes):\n",
        "    device = torch.device(\"cuda:0\" if torch.cuda.is_available() else \"cpu\")\n",
        "\n",
        "    dataloaders = {\n",
        "        'train': train_loader1,\n",
        "        'val': val_loader1,\n",
        "        #'test': test_loader1\n",
        "    }\n",
        "\n",
        "    model.eval() # Prepares model for evaluation\n",
        "\n",
        "    for phase in ['train', 'val']: #'test']:\n",
        "        correct = 0\n",
        "        total = 0\n",
        "\n",
        "        for inputs, labels in dataloaders[phase]:\n",
        "            inputs, labels = inputs.to(device), labels.to(device)\n",
        "\n",
        "            with torch.no_grad():\n",
        "                outputs = model(inputs)\n",
        "                _, predicted = torch.max(outputs.data, 1)\n",
        "\n",
        "            total += labels.size(0)\n",
        "            correct += (predicted == labels).sum().item()\n",
        "\n",
        "        print(f'Accuracy of the network on {phase} data: %d %%' % (\n",
        "            100 * correct / total))\n",
        "def plotAcc(acc):\n",
        "    # Your implementation of the plotAcc function\n",
        "    plt.figure()\n",
        "    plt.plot(range(1, len(acc) + 1), acc, label='Training Accuracy')\n",
        "    plt.xlabel('Epochs')\n",
        "    plt.ylabel('Accuracy')\n",
        "    plt.title('Training Accuracy')\n",
        "    plt.legend()\n",
        "    plt.show()\n",
        "\n",
        "def plotLoss(loss):\n",
        "    # Your implementation of the plotLoss function\n",
        "    plt.figure()\n",
        "    plt.plot(range(1, len(loss) + 1), loss, label='Training Loss')\n",
        "    plt.xlabel('Epochs')\n",
        "    plt.ylabel('Loss')\n",
        "    plt.title('Training Loss')\n",
        "    plt.legend()\n",
        "    plt.show()\n",
        "\n",
        "def training(model, epochs, train_loader, val_loader, criterion, optimizer, num_classes):\n",
        "    device = torch.device(\"cuda:0\" if torch.cuda.is_available() else \"cpu\")\n",
        "    model = model.to(device)\n",
        "\n",
        "    acc = []\n",
        "    loss = []\n",
        "\n",
        "    for epoch in range(epochs):\n",
        "        model.train()  # Prepares model for training\n",
        "        running_loss = 0.0\n",
        "\n",
        "        for inputs, labels in train_loader:\n",
        "            inputs, labels = inputs.to(device), labels.to(device)\n",
        "\n",
        "            optimizer.zero_grad()\n",
        "\n",
        "            outputs = model(inputs)\n",
        "            loss_value = criterion(outputs, labels)\n",
        "            loss_value.backward()\n",
        "            optimizer.step()\n",
        "\n",
        "            running_loss += loss_value.item()\n",
        "\n",
        "        train_loss = running_loss / len(train_loader)\n",
        "        acc.append(train_loss)\n",
        "        loss.append(epoch + 1)\n",
        "\n",
        "        if epoch % 10 == 9:\n",
        "            print(f'Epoch [{epoch+1}/{epochs}], Training Loss: {train_loss:.4f}')\n",
        "\n",
        "    return model, acc, loss\n",
        "\n",
        "num_classes2 = 5 #usb classes\n",
        "nested3 = BDPDNN2Classification(baseModel=new1, num_class=num_classes2)\n",
        "criterion = nn.CrossEntropyLoss()\n",
        "optimizer = optim.Adam(nested3.parameters(), lr=0.001)\n",
        "epochs = 20\n",
        "train_loader1, val_loader1 #data of the new dataset\n",
        "start_time = time.time()\n",
        "nested21, acc, loss = training(nested3, epochs, train_loader, val_loader, criterion, optimizer, num_classes2)\n",
        "end_time = time.time()\n",
        "elapsed_time = end_time - start_time\n",
        "print(\"Training time: {:.2f} seconds\".format(elapsed_time))\n",
        "predict(nested21, train_loader1, val_loader1, num_classes2)\n",
        "#predict(nested21, train_loader1, val_loader1, test_loader1, num_classes2)\n",
        "plotAcc(acc)\n",
        "plotLoss(loss)\n"
      ]
    },
    {
      "cell_type": "code",
      "execution_count": null,
      "metadata": {
        "id": "hu6NbJY2Wf7O",
        "colab": {
          "base_uri": "https://localhost:8080/"
        },
        "outputId": "20949767-acc2-4036-d87b-dfc419e4a30c"
      },
      "outputs": [
        {
          "output_type": "stream",
          "name": "stderr",
          "text": [
            "/usr/local/lib/python3.10/dist-packages/sklearn/metrics/_classification.py:1344: UndefinedMetricWarning: Precision and F-score are ill-defined and being set to 0.0 in labels with no predicted samples. Use `zero_division` parameter to control this behavior.\n",
            "  _warn_prf(average, modifier, msg_start, len(result))\n",
            "/usr/local/lib/python3.10/dist-packages/sklearn/metrics/_classification.py:1344: UndefinedMetricWarning: Precision and F-score are ill-defined and being set to 0.0 in labels with no predicted samples. Use `zero_division` parameter to control this behavior.\n",
            "  _warn_prf(average, modifier, msg_start, len(result))\n",
            "/usr/local/lib/python3.10/dist-packages/sklearn/metrics/_classification.py:1344: UndefinedMetricWarning: Precision and F-score are ill-defined and being set to 0.0 in labels with no predicted samples. Use `zero_division` parameter to control this behavior.\n",
            "  _warn_prf(average, modifier, msg_start, len(result))\n"
          ]
        },
        {
          "output_type": "stream",
          "name": "stdout",
          "text": [
            "Classification Matrix:\n",
            "[[103434      1      2      1      0]\n",
            " [ 29411   5814     16      0      0]\n",
            " [  2341      0   6079      0      0]\n",
            " [    47      0      0      0      0]\n",
            " [ 21559      0      0      0      0]]\n",
            "\n",
            "Classification Report:\n",
            "              precision    recall  f1-score   support\n",
            "\n",
            "           0       0.66      1.00      0.79    103438\n",
            "           1       1.00      0.16      0.28     35241\n",
            "           2       1.00      0.72      0.84      8420\n",
            "           3       0.00      0.00      0.00        47\n",
            "           4       0.00      0.00      0.00     21559\n",
            "\n",
            "    accuracy                           0.68    168705\n",
            "   macro avg       0.53      0.38      0.38    168705\n",
            "weighted avg       0.66      0.68      0.59    168705\n",
            "\n",
            "Accuracy: 68.36%\n"
          ]
        }
      ],
      "source": [
        "# Print the classification matrix\n",
        "device = torch.device(\"cuda:0\" if torch.cuda.is_available() else \"cpu\")\n",
        "nested21 = nested21.to(device)\n",
        "\n",
        "with torch.no_grad():\n",
        "    nested21.eval()  # Prepares model for evaluation\n",
        "    all_labels = []\n",
        "    all_predictions = []\n",
        "\n",
        "    for inputs, labels in val_loader1:  # Use your validation dataset\n",
        "        inputs = inputs.to(device)\n",
        "        labels = labels.to(device)\n",
        "\n",
        "        outputs = nested21(inputs)\n",
        "        _, predicted = torch.max(outputs, 1)\n",
        "\n",
        "        all_labels.extend(labels.tolist())\n",
        "        all_predictions.extend(predicted.tolist())\n",
        "\n",
        "    from sklearn.metrics import confusion_matrix,classification_report, accuracy_score\n",
        "\n",
        "    cm = confusion_matrix(all_labels, all_predictions)\n",
        "    cr = classification_report(all_labels, all_predictions)\n",
        "    accuracy = accuracy_score(all_labels, all_predictions)\n",
        "    print(\"Classification Matrix:\")\n",
        "    print(cm)\n",
        "    print(\"\\nClassification Report:\")\n",
        "    print(cr)\n",
        "    print(\"Accuracy: {:.2f}%\".format(accuracy * 100))"
      ]
    },
    {
      "cell_type": "code",
      "execution_count": null,
      "metadata": {
        "id": "6KeKx-0pWDyg"
      },
      "outputs": [],
      "source": []
    }
  ],
  "metadata": {
    "colab": {
      "provenance": [],
      "machine_shape": "hm",
      "include_colab_link": true
    },
    "kernelspec": {
      "display_name": "Python 3",
      "name": "python3"
    },
    "language_info": {
      "name": "python"
    },
    "widgets": {
      "application/vnd.jupyter.widget-state+json": {
        "ab96e873e5d7491ca1ce06e85736429a": {
          "model_module": "@jupyter-widgets/controls",
          "model_name": "HBoxModel",
          "model_module_version": "1.5.0",
          "state": {
            "_dom_classes": [],
            "_model_module": "@jupyter-widgets/controls",
            "_model_module_version": "1.5.0",
            "_model_name": "HBoxModel",
            "_view_count": null,
            "_view_module": "@jupyter-widgets/controls",
            "_view_module_version": "1.5.0",
            "_view_name": "HBoxView",
            "box_style": "",
            "children": [
              "IPY_MODEL_6c38002694c64128bf20b2a3dba655fe",
              "IPY_MODEL_630a99bdb7854eea8b310abc620d68a9",
              "IPY_MODEL_19ce2adf388a4004aa1dc78f705904c5"
            ],
            "layout": "IPY_MODEL_a516850a87a64667b0d544d67a4b5ecd"
          }
        },
        "6c38002694c64128bf20b2a3dba655fe": {
          "model_module": "@jupyter-widgets/controls",
          "model_name": "HTMLModel",
          "model_module_version": "1.5.0",
          "state": {
            "_dom_classes": [],
            "_model_module": "@jupyter-widgets/controls",
            "_model_module_version": "1.5.0",
            "_model_name": "HTMLModel",
            "_view_count": null,
            "_view_module": "@jupyter-widgets/controls",
            "_view_module_version": "1.5.0",
            "_view_name": "HTMLView",
            "description": "",
            "description_tooltip": null,
            "layout": "IPY_MODEL_2b3d3c5d57be4c21a9b5ec96abcafcb6",
            "placeholder": "​",
            "style": "IPY_MODEL_deb22267a0584f7ebcb1429c6a722705",
            "value": "100%"
          }
        },
        "630a99bdb7854eea8b310abc620d68a9": {
          "model_module": "@jupyter-widgets/controls",
          "model_name": "FloatProgressModel",
          "model_module_version": "1.5.0",
          "state": {
            "_dom_classes": [],
            "_model_module": "@jupyter-widgets/controls",
            "_model_module_version": "1.5.0",
            "_model_name": "FloatProgressModel",
            "_view_count": null,
            "_view_module": "@jupyter-widgets/controls",
            "_view_module_version": "1.5.0",
            "_view_name": "ProgressView",
            "bar_style": "success",
            "description": "",
            "description_tooltip": null,
            "layout": "IPY_MODEL_13d0e7721ff24e27a6a0a09ddd47db21",
            "max": 10,
            "min": 0,
            "orientation": "horizontal",
            "style": "IPY_MODEL_6fe1a0f4007547289a4d7a43705b3992",
            "value": 10
          }
        },
        "19ce2adf388a4004aa1dc78f705904c5": {
          "model_module": "@jupyter-widgets/controls",
          "model_name": "HTMLModel",
          "model_module_version": "1.5.0",
          "state": {
            "_dom_classes": [],
            "_model_module": "@jupyter-widgets/controls",
            "_model_module_version": "1.5.0",
            "_model_name": "HTMLModel",
            "_view_count": null,
            "_view_module": "@jupyter-widgets/controls",
            "_view_module_version": "1.5.0",
            "_view_name": "HTMLView",
            "description": "",
            "description_tooltip": null,
            "layout": "IPY_MODEL_1e97bb51725f49809afc28bba22549cf",
            "placeholder": "​",
            "style": "IPY_MODEL_f906b808b7124910ab98f3edeef6d253",
            "value": " 10/10 [00:54&lt;00:00,  5.24s/it]"
          }
        },
        "a516850a87a64667b0d544d67a4b5ecd": {
          "model_module": "@jupyter-widgets/base",
          "model_name": "LayoutModel",
          "model_module_version": "1.2.0",
          "state": {
            "_model_module": "@jupyter-widgets/base",
            "_model_module_version": "1.2.0",
            "_model_name": "LayoutModel",
            "_view_count": null,
            "_view_module": "@jupyter-widgets/base",
            "_view_module_version": "1.2.0",
            "_view_name": "LayoutView",
            "align_content": null,
            "align_items": null,
            "align_self": null,
            "border": null,
            "bottom": null,
            "display": null,
            "flex": null,
            "flex_flow": null,
            "grid_area": null,
            "grid_auto_columns": null,
            "grid_auto_flow": null,
            "grid_auto_rows": null,
            "grid_column": null,
            "grid_gap": null,
            "grid_row": null,
            "grid_template_areas": null,
            "grid_template_columns": null,
            "grid_template_rows": null,
            "height": null,
            "justify_content": null,
            "justify_items": null,
            "left": null,
            "margin": null,
            "max_height": null,
            "max_width": null,
            "min_height": null,
            "min_width": null,
            "object_fit": null,
            "object_position": null,
            "order": null,
            "overflow": null,
            "overflow_x": null,
            "overflow_y": null,
            "padding": null,
            "right": null,
            "top": null,
            "visibility": null,
            "width": null
          }
        },
        "2b3d3c5d57be4c21a9b5ec96abcafcb6": {
          "model_module": "@jupyter-widgets/base",
          "model_name": "LayoutModel",
          "model_module_version": "1.2.0",
          "state": {
            "_model_module": "@jupyter-widgets/base",
            "_model_module_version": "1.2.0",
            "_model_name": "LayoutModel",
            "_view_count": null,
            "_view_module": "@jupyter-widgets/base",
            "_view_module_version": "1.2.0",
            "_view_name": "LayoutView",
            "align_content": null,
            "align_items": null,
            "align_self": null,
            "border": null,
            "bottom": null,
            "display": null,
            "flex": null,
            "flex_flow": null,
            "grid_area": null,
            "grid_auto_columns": null,
            "grid_auto_flow": null,
            "grid_auto_rows": null,
            "grid_column": null,
            "grid_gap": null,
            "grid_row": null,
            "grid_template_areas": null,
            "grid_template_columns": null,
            "grid_template_rows": null,
            "height": null,
            "justify_content": null,
            "justify_items": null,
            "left": null,
            "margin": null,
            "max_height": null,
            "max_width": null,
            "min_height": null,
            "min_width": null,
            "object_fit": null,
            "object_position": null,
            "order": null,
            "overflow": null,
            "overflow_x": null,
            "overflow_y": null,
            "padding": null,
            "right": null,
            "top": null,
            "visibility": null,
            "width": null
          }
        },
        "deb22267a0584f7ebcb1429c6a722705": {
          "model_module": "@jupyter-widgets/controls",
          "model_name": "DescriptionStyleModel",
          "model_module_version": "1.5.0",
          "state": {
            "_model_module": "@jupyter-widgets/controls",
            "_model_module_version": "1.5.0",
            "_model_name": "DescriptionStyleModel",
            "_view_count": null,
            "_view_module": "@jupyter-widgets/base",
            "_view_module_version": "1.2.0",
            "_view_name": "StyleView",
            "description_width": ""
          }
        },
        "13d0e7721ff24e27a6a0a09ddd47db21": {
          "model_module": "@jupyter-widgets/base",
          "model_name": "LayoutModel",
          "model_module_version": "1.2.0",
          "state": {
            "_model_module": "@jupyter-widgets/base",
            "_model_module_version": "1.2.0",
            "_model_name": "LayoutModel",
            "_view_count": null,
            "_view_module": "@jupyter-widgets/base",
            "_view_module_version": "1.2.0",
            "_view_name": "LayoutView",
            "align_content": null,
            "align_items": null,
            "align_self": null,
            "border": null,
            "bottom": null,
            "display": null,
            "flex": null,
            "flex_flow": null,
            "grid_area": null,
            "grid_auto_columns": null,
            "grid_auto_flow": null,
            "grid_auto_rows": null,
            "grid_column": null,
            "grid_gap": null,
            "grid_row": null,
            "grid_template_areas": null,
            "grid_template_columns": null,
            "grid_template_rows": null,
            "height": null,
            "justify_content": null,
            "justify_items": null,
            "left": null,
            "margin": null,
            "max_height": null,
            "max_width": null,
            "min_height": null,
            "min_width": null,
            "object_fit": null,
            "object_position": null,
            "order": null,
            "overflow": null,
            "overflow_x": null,
            "overflow_y": null,
            "padding": null,
            "right": null,
            "top": null,
            "visibility": null,
            "width": null
          }
        },
        "6fe1a0f4007547289a4d7a43705b3992": {
          "model_module": "@jupyter-widgets/controls",
          "model_name": "ProgressStyleModel",
          "model_module_version": "1.5.0",
          "state": {
            "_model_module": "@jupyter-widgets/controls",
            "_model_module_version": "1.5.0",
            "_model_name": "ProgressStyleModel",
            "_view_count": null,
            "_view_module": "@jupyter-widgets/base",
            "_view_module_version": "1.2.0",
            "_view_name": "StyleView",
            "bar_color": null,
            "description_width": ""
          }
        },
        "1e97bb51725f49809afc28bba22549cf": {
          "model_module": "@jupyter-widgets/base",
          "model_name": "LayoutModel",
          "model_module_version": "1.2.0",
          "state": {
            "_model_module": "@jupyter-widgets/base",
            "_model_module_version": "1.2.0",
            "_model_name": "LayoutModel",
            "_view_count": null,
            "_view_module": "@jupyter-widgets/base",
            "_view_module_version": "1.2.0",
            "_view_name": "LayoutView",
            "align_content": null,
            "align_items": null,
            "align_self": null,
            "border": null,
            "bottom": null,
            "display": null,
            "flex": null,
            "flex_flow": null,
            "grid_area": null,
            "grid_auto_columns": null,
            "grid_auto_flow": null,
            "grid_auto_rows": null,
            "grid_column": null,
            "grid_gap": null,
            "grid_row": null,
            "grid_template_areas": null,
            "grid_template_columns": null,
            "grid_template_rows": null,
            "height": null,
            "justify_content": null,
            "justify_items": null,
            "left": null,
            "margin": null,
            "max_height": null,
            "max_width": null,
            "min_height": null,
            "min_width": null,
            "object_fit": null,
            "object_position": null,
            "order": null,
            "overflow": null,
            "overflow_x": null,
            "overflow_y": null,
            "padding": null,
            "right": null,
            "top": null,
            "visibility": null,
            "width": null
          }
        },
        "f906b808b7124910ab98f3edeef6d253": {
          "model_module": "@jupyter-widgets/controls",
          "model_name": "DescriptionStyleModel",
          "model_module_version": "1.5.0",
          "state": {
            "_model_module": "@jupyter-widgets/controls",
            "_model_module_version": "1.5.0",
            "_model_name": "DescriptionStyleModel",
            "_view_count": null,
            "_view_module": "@jupyter-widgets/base",
            "_view_module_version": "1.2.0",
            "_view_name": "StyleView",
            "description_width": ""
          }
        }
      }
    }
  },
  "nbformat": 4,
  "nbformat_minor": 0
}