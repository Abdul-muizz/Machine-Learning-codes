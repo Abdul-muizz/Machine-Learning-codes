{
  "nbformat": 4,
  "nbformat_minor": 0,
  "metadata": {
    "colab": {
      "provenance": [],
      "authorship_tag": "ABX9TyMsLfPIYmrErCK+PTFv5fka",
      "include_colab_link": true
    },
    "kernelspec": {
      "name": "python3",
      "display_name": "Python 3"
    },
    "language_info": {
      "name": "python"
    }
  },
  "cells": [
    {
      "cell_type": "markdown",
      "metadata": {
        "id": "view-in-github",
        "colab_type": "text"
      },
      "source": [
        "<a href=\"https://colab.research.google.com/github/Abdul-muizz/Abdul-Muizz.github.io/blob/main/Recognizing_sentiments_using_NLP.ipynb\" target=\"_parent\"><img src=\"https://colab.research.google.com/assets/colab-badge.svg\" alt=\"Open In Colab\"/></a>"
      ]
    },
    {
      "cell_type": "code",
      "execution_count": 1,
      "metadata": {
        "colab": {
          "base_uri": "https://localhost:8080/"
        },
        "id": "tjomOAoiruHY",
        "outputId": "3c4ac024-f591-4d3e-bf59-a9eacbdfdf4b"
      },
      "outputs": [
        {
          "output_type": "stream",
          "name": "stdout",
          "text": [
            "Colab only includes TensorFlow 2.x; %tensorflow_version has no effect.\n"
          ]
        }
      ],
      "source": [
        "# Run this to ensure TensorFlow 2.x is used\n",
        "try:\n",
        "  # %tensorflow_version only exists in Colab.\n",
        "  %tensorflow_version 2.x\n",
        "except Exception:\n",
        "  pass"
      ]
    },
    {
      "cell_type": "code",
      "source": [
        "import json\n",
        "import tensorflow as tf\n",
        "\n",
        "from tensorflow.keras.preprocessing.text import Tokenizer\n",
        "from tensorflow.keras.preprocessing.sequence import pad_sequences"
      ],
      "metadata": {
        "id": "zmdKN7fmr9Gq"
      },
      "execution_count": 2,
      "outputs": []
    },
    {
      "cell_type": "code",
      "source": [
        "vocab_size = 10000\n",
        "embedding_dim = 16\n",
        "max_length = 100\n",
        "trunc_type='post'\n",
        "padding_type='post'\n",
        "oov_tok = \"<OOV>\"\n",
        "training_size = 20000"
      ],
      "metadata": {
        "id": "1z5fGeEEsCuq"
      },
      "execution_count": 3,
      "outputs": []
    },
    {
      "cell_type": "code",
      "source": [
        "!wget --no-check-certificate \\\n",
        "    https://storage.googleapis.com/learning-datasets/sarcasm.json \\\n",
        "    -O /tmp/sarcasm.json\n"
      ],
      "metadata": {
        "colab": {
          "base_uri": "https://localhost:8080/"
        },
        "id": "3u22vA-BsGcy",
        "outputId": "89860131-db23-43f0-e199-385f874ac24e"
      },
      "execution_count": 4,
      "outputs": [
        {
          "output_type": "stream",
          "name": "stdout",
          "text": [
            "--2024-01-03 04:59:02--  https://storage.googleapis.com/learning-datasets/sarcasm.json\n",
            "Resolving storage.googleapis.com (storage.googleapis.com)... 173.194.217.207, 108.177.12.207, 108.177.13.207, ...\n",
            "Connecting to storage.googleapis.com (storage.googleapis.com)|173.194.217.207|:443... connected.\n",
            "HTTP request sent, awaiting response... 200 OK\n",
            "Length: 5643545 (5.4M) [application/json]\n",
            "Saving to: ‘/tmp/sarcasm.json’\n",
            "\n",
            "/tmp/sarcasm.json   100%[===================>]   5.38M  --.-KB/s    in 0.08s   \n",
            "\n",
            "2024-01-03 04:59:02 (69.3 MB/s) - ‘/tmp/sarcasm.json’ saved [5643545/5643545]\n",
            "\n"
          ]
        }
      ]
    },
    {
      "cell_type": "code",
      "source": [
        "with open(\"/tmp/sarcasm.json\", 'r') as f:\n",
        "    datastore = json.load(f)\n",
        "\n",
        "sentences = []\n",
        "labels = []\n",
        "\n",
        "for item in datastore:\n",
        "    sentences.append(item['headline'])\n",
        "    labels.append(item['is_sarcastic'])"
      ],
      "metadata": {
        "id": "RIKgPZL-sH8y"
      },
      "execution_count": 5,
      "outputs": []
    },
    {
      "cell_type": "code",
      "source": [
        "training_sentences = sentences[0:training_size]\n",
        "testing_sentences = sentences[training_size:]\n",
        "training_labels = labels[0:training_size]\n",
        "testing_labels = labels[training_size:]"
      ],
      "metadata": {
        "id": "uu10uGhvsNIV"
      },
      "execution_count": 6,
      "outputs": []
    },
    {
      "cell_type": "code",
      "source": [
        "tokenizer = Tokenizer(num_words=vocab_size, oov_token=oov_tok)\n",
        "tokenizer.fit_on_texts(training_sentences)\n",
        "\n",
        "word_index = tokenizer.word_index\n",
        "\n",
        "training_sequences = tokenizer.texts_to_sequences(training_sentences)\n",
        "training_padded = pad_sequences(training_sequences, maxlen=max_length, padding=padding_type, truncating=trunc_type)\n",
        "\n",
        "testing_sequences = tokenizer.texts_to_sequences(testing_sentences)\n",
        "testing_padded = pad_sequences(testing_sequences, maxlen=max_length, padding=padding_type, truncating=trunc_type)"
      ],
      "metadata": {
        "id": "Oj8wOhijsQIY"
      },
      "execution_count": 7,
      "outputs": []
    },
    {
      "cell_type": "code",
      "source": [
        "# Need this block to get it to work with TensorFlow 2.x\n",
        "import numpy as np\n",
        "training_padded = np.array(training_padded)\n",
        "training_labels = np.array(training_labels)\n",
        "testing_padded = np.array(testing_padded)\n",
        "testing_labels = np.array(testing_labels)"
      ],
      "metadata": {
        "id": "I1ySdKWfsSOq"
      },
      "execution_count": 8,
      "outputs": []
    },
    {
      "cell_type": "code",
      "source": [
        "model = tf.keras.Sequential([\n",
        "    tf.keras.layers.Embedding(vocab_size, embedding_dim, input_length=max_length),\n",
        "    tf.keras.layers.GlobalAveragePooling1D(),\n",
        "    tf.keras.layers.Dense(24, activation='relu'),\n",
        "    tf.keras.layers.Dense(1, activation='sigmoid')\n",
        "])\n",
        "model.compile(loss='binary_crossentropy',optimizer='adam',metrics=['accuracy'])"
      ],
      "metadata": {
        "id": "rpBky4y6sYIz"
      },
      "execution_count": 9,
      "outputs": []
    },
    {
      "cell_type": "code",
      "source": [
        "model.summary()"
      ],
      "metadata": {
        "colab": {
          "base_uri": "https://localhost:8080/"
        },
        "id": "Od1MHnrksahS",
        "outputId": "5c517133-5f1d-40fe-9c85-d0b38374eb51"
      },
      "execution_count": 10,
      "outputs": [
        {
          "output_type": "stream",
          "name": "stdout",
          "text": [
            "Model: \"sequential\"\n",
            "_________________________________________________________________\n",
            " Layer (type)                Output Shape              Param #   \n",
            "=================================================================\n",
            " embedding (Embedding)       (None, 100, 16)           160000    \n",
            "                                                                 \n",
            " global_average_pooling1d (  (None, 16)                0         \n",
            " GlobalAveragePooling1D)                                         \n",
            "                                                                 \n",
            " dense (Dense)               (None, 24)                408       \n",
            "                                                                 \n",
            " dense_1 (Dense)             (None, 1)                 25        \n",
            "                                                                 \n",
            "=================================================================\n",
            "Total params: 160433 (626.69 KB)\n",
            "Trainable params: 160433 (626.69 KB)\n",
            "Non-trainable params: 0 (0.00 Byte)\n",
            "_________________________________________________________________\n"
          ]
        }
      ]
    },
    {
      "cell_type": "code",
      "source": [
        "num_epochs = 30\n",
        "history = model.fit(training_padded, training_labels, epochs=num_epochs, validation_data=(testing_padded, testing_labels), verbose=2)"
      ],
      "metadata": {
        "colab": {
          "base_uri": "https://localhost:8080/"
        },
        "id": "1tm4Jznksc7i",
        "outputId": "0968fc41-e1fc-422a-866b-10959fa236d0"
      },
      "execution_count": 11,
      "outputs": [
        {
          "output_type": "stream",
          "name": "stdout",
          "text": [
            "Epoch 1/30\n",
            "625/625 - 4s - loss: 0.6741 - accuracy: 0.5643 - val_loss: 0.6186 - val_accuracy: 0.6415 - 4s/epoch - 7ms/step\n",
            "Epoch 2/30\n",
            "625/625 - 4s - loss: 0.4416 - accuracy: 0.8173 - val_loss: 0.3835 - val_accuracy: 0.8386 - 4s/epoch - 7ms/step\n",
            "Epoch 3/30\n",
            "625/625 - 3s - loss: 0.3098 - accuracy: 0.8751 - val_loss: 0.3525 - val_accuracy: 0.8511 - 3s/epoch - 5ms/step\n",
            "Epoch 4/30\n",
            "625/625 - 3s - loss: 0.2597 - accuracy: 0.8971 - val_loss: 0.3445 - val_accuracy: 0.8553 - 3s/epoch - 5ms/step\n",
            "Epoch 5/30\n",
            "625/625 - 3s - loss: 0.2224 - accuracy: 0.9136 - val_loss: 0.3441 - val_accuracy: 0.8562 - 3s/epoch - 5ms/step\n",
            "Epoch 6/30\n",
            "625/625 - 5s - loss: 0.1948 - accuracy: 0.9245 - val_loss: 0.3824 - val_accuracy: 0.8384 - 5s/epoch - 8ms/step\n",
            "Epoch 7/30\n",
            "625/625 - 3s - loss: 0.1713 - accuracy: 0.9356 - val_loss: 0.3658 - val_accuracy: 0.8533 - 3s/epoch - 5ms/step\n",
            "Epoch 8/30\n",
            "625/625 - 3s - loss: 0.1555 - accuracy: 0.9417 - val_loss: 0.4062 - val_accuracy: 0.8433 - 3s/epoch - 5ms/step\n",
            "Epoch 9/30\n",
            "625/625 - 3s - loss: 0.1387 - accuracy: 0.9499 - val_loss: 0.4025 - val_accuracy: 0.8514 - 3s/epoch - 5ms/step\n",
            "Epoch 10/30\n",
            "625/625 - 5s - loss: 0.1250 - accuracy: 0.9545 - val_loss: 0.4304 - val_accuracy: 0.8477 - 5s/epoch - 8ms/step\n",
            "Epoch 11/30\n",
            "625/625 - 3s - loss: 0.1132 - accuracy: 0.9602 - val_loss: 0.4472 - val_accuracy: 0.8466 - 3s/epoch - 5ms/step\n",
            "Epoch 12/30\n",
            "625/625 - 3s - loss: 0.1031 - accuracy: 0.9638 - val_loss: 0.4846 - val_accuracy: 0.8408 - 3s/epoch - 5ms/step\n",
            "Epoch 13/30\n",
            "625/625 - 4s - loss: 0.0916 - accuracy: 0.9689 - val_loss: 0.5206 - val_accuracy: 0.8366 - 4s/epoch - 6ms/step\n",
            "Epoch 14/30\n",
            "625/625 - 4s - loss: 0.0864 - accuracy: 0.9710 - val_loss: 0.5342 - val_accuracy: 0.8413 - 4s/epoch - 6ms/step\n",
            "Epoch 15/30\n",
            "625/625 - 3s - loss: 0.0769 - accuracy: 0.9741 - val_loss: 0.5649 - val_accuracy: 0.8399 - 3s/epoch - 5ms/step\n",
            "Epoch 16/30\n",
            "625/625 - 3s - loss: 0.0707 - accuracy: 0.9776 - val_loss: 0.6004 - val_accuracy: 0.8369 - 3s/epoch - 5ms/step\n",
            "Epoch 17/30\n",
            "625/625 - 3s - loss: 0.0661 - accuracy: 0.9783 - val_loss: 0.6397 - val_accuracy: 0.8320 - 3s/epoch - 6ms/step\n",
            "Epoch 18/30\n",
            "625/625 - 4s - loss: 0.0590 - accuracy: 0.9810 - val_loss: 0.6669 - val_accuracy: 0.8316 - 4s/epoch - 6ms/step\n",
            "Epoch 19/30\n",
            "625/625 - 3s - loss: 0.0538 - accuracy: 0.9829 - val_loss: 0.7037 - val_accuracy: 0.8289 - 3s/epoch - 5ms/step\n",
            "Epoch 20/30\n",
            "625/625 - 3s - loss: 0.0498 - accuracy: 0.9852 - val_loss: 0.7411 - val_accuracy: 0.8274 - 3s/epoch - 4ms/step\n",
            "Epoch 21/30\n",
            "625/625 - 3s - loss: 0.0454 - accuracy: 0.9851 - val_loss: 0.7714 - val_accuracy: 0.8268 - 3s/epoch - 5ms/step\n",
            "Epoch 22/30\n",
            "625/625 - 4s - loss: 0.0403 - accuracy: 0.9882 - val_loss: 0.8129 - val_accuracy: 0.8241 - 4s/epoch - 6ms/step\n",
            "Epoch 23/30\n",
            "625/625 - 3s - loss: 0.0381 - accuracy: 0.9888 - val_loss: 0.8554 - val_accuracy: 0.8208 - 3s/epoch - 5ms/step\n",
            "Epoch 24/30\n",
            "625/625 - 3s - loss: 0.0357 - accuracy: 0.9893 - val_loss: 0.8893 - val_accuracy: 0.8202 - 3s/epoch - 6ms/step\n",
            "Epoch 25/30\n",
            "625/625 - 4s - loss: 0.0333 - accuracy: 0.9898 - val_loss: 0.9239 - val_accuracy: 0.8211 - 4s/epoch - 7ms/step\n",
            "Epoch 26/30\n",
            "625/625 - 4s - loss: 0.0288 - accuracy: 0.9918 - val_loss: 0.9705 - val_accuracy: 0.8179 - 4s/epoch - 6ms/step\n",
            "Epoch 27/30\n",
            "625/625 - 3s - loss: 0.0271 - accuracy: 0.9919 - val_loss: 1.0108 - val_accuracy: 0.8159 - 3s/epoch - 5ms/step\n",
            "Epoch 28/30\n",
            "625/625 - 3s - loss: 0.0263 - accuracy: 0.9915 - val_loss: 1.0486 - val_accuracy: 0.8152 - 3s/epoch - 5ms/step\n",
            "Epoch 29/30\n",
            "625/625 - 5s - loss: 0.0230 - accuracy: 0.9933 - val_loss: 1.1184 - val_accuracy: 0.8128 - 5s/epoch - 8ms/step\n",
            "Epoch 30/30\n",
            "625/625 - 3s - loss: 0.0222 - accuracy: 0.9933 - val_loss: 1.1435 - val_accuracy: 0.8092 - 3s/epoch - 5ms/step\n"
          ]
        }
      ]
    },
    {
      "cell_type": "code",
      "source": [
        "# import matplotlib.pyplot as plt\n",
        "\n",
        "\n",
        "# def plot_graphs(history, string):\n",
        "#   plt.plot(history.history[string])\n",
        "#   plt.plot(history.history['val_'+string])\n",
        "#   plt.xlabel(\"Epochs\")\n",
        "#   plt.ylabel(string)\n",
        "#   plt.legend([string, 'val_'+string])\n",
        "#   plt.show()\n",
        "\n",
        "# plot_graphs(history, \"accuracy\")\n",
        "# plot_graphs(history, \"loss\")"
      ],
      "metadata": {
        "id": "nosOCi99s490"
      },
      "execution_count": 13,
      "outputs": []
    },
    {
      "cell_type": "code",
      "source": [
        "reverse_word_index = dict([(value, key) for (key, value) in word_index.items()])\n",
        "\n",
        "def decode_sentence(text):\n",
        "    return ' '.join([reverse_word_index.get(i, '?') for i in text])\n",
        "\n",
        "print(decode_sentence(training_padded[0]))\n",
        "print(training_sentences[2])\n",
        "print(labels[2])"
      ],
      "metadata": {
        "colab": {
          "base_uri": "https://localhost:8080/"
        },
        "id": "ZewSYRUktCR6",
        "outputId": "88b2faf0-f221-488f-c7cf-fe1399f421de"
      },
      "execution_count": 14,
      "outputs": [
        {
          "output_type": "stream",
          "name": "stdout",
          "text": [
            "former <OOV> store clerk sues over secret 'black <OOV> for minority shoppers ? ? ? ? ? ? ? ? ? ? ? ? ? ? ? ? ? ? ? ? ? ? ? ? ? ? ? ? ? ? ? ? ? ? ? ? ? ? ? ? ? ? ? ? ? ? ? ? ? ? ? ? ? ? ? ? ? ? ? ? ? ? ? ? ? ? ? ? ? ? ? ? ? ? ? ? ? ? ? ? ? ? ? ? ? ? ? ?\n",
            "mom starting to fear son's web series closest thing she will have to grandchild\n",
            "1\n"
          ]
        }
      ]
    },
    {
      "cell_type": "code",
      "source": [
        "e = model.layers[0]\n",
        "weights = e.get_weights()[0]\n",
        "print(weights.shape) # shape: (vocab_size, embedding_dim)"
      ],
      "metadata": {
        "colab": {
          "base_uri": "https://localhost:8080/"
        },
        "id": "O32vl_BItPfq",
        "outputId": "21e4b207-c0c5-4ee3-d33a-614aca17aa2b"
      },
      "execution_count": 15,
      "outputs": [
        {
          "output_type": "stream",
          "name": "stdout",
          "text": [
            "(10000, 16)\n"
          ]
        }
      ]
    },
    {
      "cell_type": "code",
      "source": [
        "import io\n",
        "\n",
        "out_v = io.open('vecs.tsv', 'w', encoding='utf-8')\n",
        "out_m = io.open('meta.tsv', 'w', encoding='utf-8')\n",
        "for word_num in range(1, vocab_size):\n",
        "  word = reverse_word_index[word_num]\n",
        "  embeddings = weights[word_num]\n",
        "  out_m.write(word + \"\\n\")\n",
        "  out_v.write('\\t'.join([str(x) for x in embeddings]) + \"\\n\")\n",
        "out_v.close()\n",
        "out_m.close()"
      ],
      "metadata": {
        "id": "Dc3ySRREtSGh"
      },
      "execution_count": 16,
      "outputs": []
    },
    {
      "cell_type": "code",
      "source": [
        "try:\n",
        "  from google.colab import files\n",
        "except ImportError:\n",
        "  pass\n",
        "else:\n",
        "  files.download('vecs.tsv')\n",
        "  files.download('meta.tsv')"
      ],
      "metadata": {
        "colab": {
          "base_uri": "https://localhost:8080/",
          "height": 17
        },
        "id": "dc0cPCnWtWtZ",
        "outputId": "296ba5a5-48fe-4a42-e053-2be00173d8b8"
      },
      "execution_count": 17,
      "outputs": [
        {
          "output_type": "display_data",
          "data": {
            "text/plain": [
              "<IPython.core.display.Javascript object>"
            ],
            "application/javascript": [
              "\n",
              "    async function download(id, filename, size) {\n",
              "      if (!google.colab.kernel.accessAllowed) {\n",
              "        return;\n",
              "      }\n",
              "      const div = document.createElement('div');\n",
              "      const label = document.createElement('label');\n",
              "      label.textContent = `Downloading \"${filename}\": `;\n",
              "      div.appendChild(label);\n",
              "      const progress = document.createElement('progress');\n",
              "      progress.max = size;\n",
              "      div.appendChild(progress);\n",
              "      document.body.appendChild(div);\n",
              "\n",
              "      const buffers = [];\n",
              "      let downloaded = 0;\n",
              "\n",
              "      const channel = await google.colab.kernel.comms.open(id);\n",
              "      // Send a message to notify the kernel that we're ready.\n",
              "      channel.send({})\n",
              "\n",
              "      for await (const message of channel.messages) {\n",
              "        // Send a message to notify the kernel that we're ready.\n",
              "        channel.send({})\n",
              "        if (message.buffers) {\n",
              "          for (const buffer of message.buffers) {\n",
              "            buffers.push(buffer);\n",
              "            downloaded += buffer.byteLength;\n",
              "            progress.value = downloaded;\n",
              "          }\n",
              "        }\n",
              "      }\n",
              "      const blob = new Blob(buffers, {type: 'application/binary'});\n",
              "      const a = document.createElement('a');\n",
              "      a.href = window.URL.createObjectURL(blob);\n",
              "      a.download = filename;\n",
              "      div.appendChild(a);\n",
              "      a.click();\n",
              "      div.remove();\n",
              "    }\n",
              "  "
            ]
          },
          "metadata": {}
        },
        {
          "output_type": "display_data",
          "data": {
            "text/plain": [
              "<IPython.core.display.Javascript object>"
            ],
            "application/javascript": [
              "download(\"download_08dd566a-fe5e-4dc3-af96-5082dcf18d3d\", \"vecs.tsv\", 1816833)"
            ]
          },
          "metadata": {}
        },
        {
          "output_type": "display_data",
          "data": {
            "text/plain": [
              "<IPython.core.display.Javascript object>"
            ],
            "application/javascript": [
              "\n",
              "    async function download(id, filename, size) {\n",
              "      if (!google.colab.kernel.accessAllowed) {\n",
              "        return;\n",
              "      }\n",
              "      const div = document.createElement('div');\n",
              "      const label = document.createElement('label');\n",
              "      label.textContent = `Downloading \"${filename}\": `;\n",
              "      div.appendChild(label);\n",
              "      const progress = document.createElement('progress');\n",
              "      progress.max = size;\n",
              "      div.appendChild(progress);\n",
              "      document.body.appendChild(div);\n",
              "\n",
              "      const buffers = [];\n",
              "      let downloaded = 0;\n",
              "\n",
              "      const channel = await google.colab.kernel.comms.open(id);\n",
              "      // Send a message to notify the kernel that we're ready.\n",
              "      channel.send({})\n",
              "\n",
              "      for await (const message of channel.messages) {\n",
              "        // Send a message to notify the kernel that we're ready.\n",
              "        channel.send({})\n",
              "        if (message.buffers) {\n",
              "          for (const buffer of message.buffers) {\n",
              "            buffers.push(buffer);\n",
              "            downloaded += buffer.byteLength;\n",
              "            progress.value = downloaded;\n",
              "          }\n",
              "        }\n",
              "      }\n",
              "      const blob = new Blob(buffers, {type: 'application/binary'});\n",
              "      const a = document.createElement('a');\n",
              "      a.href = window.URL.createObjectURL(blob);\n",
              "      a.download = filename;\n",
              "      div.appendChild(a);\n",
              "      a.click();\n",
              "      div.remove();\n",
              "    }\n",
              "  "
            ]
          },
          "metadata": {}
        },
        {
          "output_type": "display_data",
          "data": {
            "text/plain": [
              "<IPython.core.display.Javascript object>"
            ],
            "application/javascript": [
              "download(\"download_1145f0f5-88a2-4f97-b855-1635823120d5\", \"meta.tsv\", 75974)"
            ]
          },
          "metadata": {}
        }
      ]
    },
    {
      "cell_type": "code",
      "source": [
        "sentence = [\"granny starting to fear spiders in the garden might be real\", \"game of thrones season finale showing this sunday night\"]\n",
        "sequences = tokenizer.texts_to_sequences(sentence)\n",
        "padded = pad_sequences(sequences, maxlen=max_length, padding=padding_type, truncating=trunc_type)\n",
        "print(model.predict(padded))"
      ],
      "metadata": {
        "colab": {
          "base_uri": "https://localhost:8080/"
        },
        "id": "ty44hWLztceq",
        "outputId": "8a3b7cb7-c566-4b6c-dc7c-64350189fdca"
      },
      "execution_count": 18,
      "outputs": [
        {
          "output_type": "stream",
          "name": "stdout",
          "text": [
            "1/1 [==============================] - 0s 104ms/step\n",
            "[[9.6193773e-01]\n",
            " [6.6392977e-06]]\n"
          ]
        }
      ]
    }
  ]
}